{
 "cells": [
  {
   "cell_type": "markdown",
   "metadata": {},
   "source": [
    "# Problem 1. [20 points] Pendulum with Moving Pivot"
   ]
  },
  {
   "cell_type": "markdown",
   "metadata": {},
   "source": [
    "Consider the pendulum with moving pivot shown in the following figure, where the pivot motion is a sinusoidal function of time, i.e.,\n",
    "$$x(t) = A \\sin\\Omega t,$$\n",
    "for some given constants $A,\\Omega$. The mass of the bob is $m$, and the massless rod is of length $\\ell$, as shown. Neglect friction. "
   ]
  },
  {
   "cell_type": "markdown",
   "metadata": {},
   "source": [
    "<img src=\"pendulumwithpivot.png\" height=\"350\" width=\"350\">"
   ]
  },
  {
   "cell_type": "markdown",
   "metadata": {},
   "source": [
    "## (a) [10 points] Equation of motion"
   ]
  },
  {
   "cell_type": "markdown",
   "metadata": {},
   "source": [
    "Use Euler-Lagrange equation to derive the equation of motion for the pendulum.\n",
    "\n",
    "(Hint: Start from the fact that the position vector for the pendulum is $r(t) = (A\\sin\\Omega t)\\widehat{n}_{1} + \\ell \\widehat{e}_{r}$. Then calculate $\\dot{r}(t)$, and proceed from there.)"
   ]
  },
  {
   "cell_type": "markdown",
   "metadata": {},
   "source": [
    "## Solution for part (a):\n",
    "Since the position vector for the pendulum is $r(t)=(A \\sin\\Omega t)\\widehat{n}_{1} + \\ell\\widehat{e}_{r}$, we have\n",
    "\n",
    "$$\\dot{r}(t) = (A\\Omega\\cos\\Omega t)\\widehat{n}_{1} + \\frac{{\\rm{d}}}{{\\rm{d}}t}\\left(\\ell\\widehat{e}_{r}\\right) = (A\\Omega\\cos\\Omega t)\\widehat{n}_{1} + \\frac{{\\rm{d}}\\ell}{{\\rm{d}}t}\\widehat{e}_{r} + \\dot{\\theta}\\widehat{e}_{z} \\times \\ell\\widehat{e}_{r} = (A\\Omega\\cos\\Omega t)\\widehat{n}_{1} + 0 + \\ell\\dot{\\theta}\\widehat{e}_{\\theta}.$$\n",
    "\n",
    "Therefore, the kinetic energy for the pendulum is\n",
    "\n",
    "$$T = \\frac{1}{2}m\\langle\\dot{r},\\dot{r}\\rangle = \\frac{1}{2}m\\left[(A\\Omega\\cos\\Omega t)^{2} + \\left(\\ell\\dot{\\theta}\\right)^{2} + 2 \\langle A\\Omega\\cos(\\Omega t)\\widehat{n}_{1}, \\ell\\dot{\\theta}\\widehat{e}_{\\theta}\\rangle\\right] = \\frac{1}{2}m\\left[(A\\Omega\\cos\\Omega t)^{2} + \\left(\\ell\\dot{\\theta}\\right)^{2} + 2A\\ell\\dot{\\theta}\\Omega\\cos(\\Omega t)\\cos\\theta\\right].$$\n",
    "\n",
    "On the other hand, the potential energy for the pendulum is $V = mg\\ell\\left(1-\\cos\\theta\\right)$. Consequently, the Lagrangian $L$ is given by\n",
    "\n",
    "$$L = T - V = \\frac{1}{2}m\\left[(A\\Omega\\cos\\Omega t)^{2} + \\left(\\ell\\dot{\\theta}\\right)^{2} + 2A\\ell\\dot{\\theta}\\Omega\\cos(\\Omega t)\\cos\\theta\\right] - mg\\ell\\left(1-\\cos\\theta\\right).$$\n",
    "\n",
    "Thus, the EL equation\n",
    "\n",
    "$$0 = \\frac{{\\rm{d}}}{{\\rm{d}}t}\\left(\\frac{\\partial L}{\\partial\\dot{\\theta}}\\right) - \\frac{\\partial L}{\\partial\\theta} = m\\ell^{2}\\ddot{\\theta} + mg\\ell\\sin\\theta - m A\\Omega^{2}\\ell\\cos\\theta\\sin\\left(\\Omega t\\right),$$\n",
    "\n",
    "gives the equation of motion for the pendulum as\n",
    "\n",
    "$$\\ddot{\\theta} + \\frac{g}{\\ell}\\sin\\theta = \\left(\\frac{A\\Omega^{2}}{\\ell}\\right)\\cos\\theta\\sin\\Omega t.$$"
   ]
  },
  {
   "cell_type": "markdown",
   "metadata": {},
   "source": [
    "## (b) [(2+2+1) + 5 = 10 points] Conserved quantities "
   ]
  },
  {
   "cell_type": "markdown",
   "metadata": {},
   "source": [
    "(b.1) Compute the total energy $E$, and the Hamiltonian $H$. Is $H=E$ in this case? \n",
    "\n",
    "(b.2) Use your answer in part (b.1) to conclude if any of the two quantities among $H$ and $E$ is a constant of motion.\n",
    "\n",
    "(Hint: Compute $\\frac{{\\rm{d}}E}{{\\rm{d}}t}$ and $\\frac{{\\rm{d}}H}{{\\rm{d}}t}$ by direct differentiation.)"
   ]
  },
  {
   "cell_type": "markdown",
   "metadata": {},
   "source": [
    "## Solution for part (b.1):\n",
    "The total energy is\n",
    "$$E = T + V =  \\frac{1}{2}m\\left[(A\\Omega\\cos\\Omega t)^{2} + \\left(\\ell\\dot{\\theta}\\right)^{2} + 2A\\ell\\dot{\\theta}\\Omega\\cos(\\Omega t)\\cos\\theta\\right] + mg\\ell\\left(1-\\cos\\theta\\right).$$\n",
    "The Hamiltonian is\n",
    "$$H = \\frac{\\partial L}{\\partial\\dot{\\theta}}\\dot{\\theta} - L = -\\frac{1}{2}mA^{2}\\Omega^{2}\\cos^{2}(\\Omega t) + mg\\ell(1-\\cos\\theta) + \\frac{1}{2}m\\ell^{2}\\dot{\\theta}^{2}.$$\n",
    "Comparing the above two expressions, $E\\neq H$ in this case.\n",
    "\n",
    "## Solution for part (b.2):\n",
    "By direct differentiation, we get\n",
    "$$\\frac{{\\rm{d}}E}{{\\rm{d}}t} = -mA\\Omega\\cos(\\Omega t)\\left(A\\Omega\\sin(\\Omega t) + \\ell\\dot{\\theta}\\sin\\theta\\right),$$\n",
    "where we have used the equation of motion in part (a) to substitute for $\\ddot{\\theta}$. From above, we conclude that $\\frac{{\\rm{d}}E}{{\\rm{d}}t}\\neq 0$, i.e., $E$ is not constant. This is intuitive since the constraint force needed to ensure $x(t)=A\\sin\\Omega t$ does work on the system.\n",
    "\n",
    "Similarly, we have\n",
    "$$\\frac{{\\rm{d}}H}{{\\rm{d}}t} = mA\\Omega^{2}\\sin(\\Omega t)\\left(A\\Omega\\cos(\\Omega t) + \\ell\\dot{\\theta}\\cos\\theta\\right),$$\n",
    "where again, we have used the equation of motion in part (a) to substitute for $\\ddot{\\theta}$. From above, we conclude that $\\frac{{\\rm{d}}H}{{\\rm{d}}t}\\neq 0$, i.e., $H$ is not constant. This is expected since the Lagrangian $L$ was an explicit function of time $t$."
   ]
  },
  {
   "cell_type": "markdown",
   "metadata": {},
   "source": [
    "# Problem 2. [30 points] Brachistochrone Revisited "
   ]
  },
  {
   "cell_type": "markdown",
   "metadata": {},
   "source": [
    "In this exercise, we will solve the Brachistochrone problem shown below using optimal control.\n",
    "\n",
    "<img src=\"BrachistochroneOCP.png\" height=\"350\" width=\"350\">"
   ]
  },
  {
   "cell_type": "markdown",
   "metadata": {},
   "source": [
    "## (a) [5 points] Optimal control reformulation"
   ]
  },
  {
   "cell_type": "markdown",
   "metadata": {
    "collapsed": true
   },
   "source": [
    "Let the control variable be the angle $\\theta$ that the velocity vector $V$ makes with the horizontal axis, as shown above. Reformulate the Brachistochrone problem of going from point $A\\equiv(0,0)$ to point $B\\equiv(x_{1},y_{1})$ as a **minimum time optimal control problem** with terminal time $T$ free, and terminal state $(x(T),y(T))$ fixed."
   ]
  },
  {
   "cell_type": "markdown",
   "metadata": {},
   "source": [
    "## Solution for part (a):\n",
    "The optimal control problem is to\n",
    "\n",
    "$$\\underset{\\theta(\\cdot)}{\\text{minimize}}\\quad\\int_{0}^{T}1\\:{\\rm{d}}t$$\n",
    "\n",
    "subject to $\\dot{x}=V\\cos\\theta, \\dot{y}=V\\sin\\theta$, where $V = \\sqrt{2gy}$. The initial condition $(x(0),y(0))\\equiv(0,0)$, and the terminal condition $(x(T),y(T))\\equiv(x_1,y_1)$ are given. There is no terminal cost ($\\phi\\equiv 0$); the terminal constraint is\n",
    "$$\\psi(x(T),T) := \\begin{pmatrix}x(T) - x_{1}\\\\y(T) - y_{1} \\end{pmatrix} = \\begin{pmatrix}0\\\\0\\end{pmatrix}.$$"
   ]
  },
  {
   "cell_type": "markdown",
   "metadata": {},
   "source": [
    "## (b) [15 points] Two identities"
   ]
  },
  {
   "cell_type": "markdown",
   "metadata": {},
   "source": [
    "Prove that the optimal position tuple $(x(t),y(t))$ at any time $t\\in[0,T]$, is given by\n",
    "\n",
    "$$x(t) = x_{1} + \\frac{y_{1}}{2\\cos^{2}\\theta(T)}\\bigg\\{2\\left(\\theta(T) - \\theta(t)\\right) + \\sin\\left(2\\theta(T)\\right) - \\sin\\left(2\\theta(t)\\right)\\bigg\\}, \\quad y(t) = y_{1}\\frac{\\cos^{2}\\theta(t)}{\\cos^{2}\\theta(T)}.$$\n",
    "\n",
    "The above two identities allow (numerically) solving for $(\\theta(t),\\theta(T))$ as function of $(x(t),y(t))$. This helps define optimal state feedback: $\\theta(t)$ as function of $(x(t),y(t))$."
   ]
  },
  {
   "cell_type": "markdown",
   "metadata": {},
   "source": [
    "## Solution for part (b):\n",
    "The Hamailtonian $H = 1 + \\sqrt{2gy}\\left(\\lambda_{1}\\cos\\theta + \\lambda_{2}\\sin\\theta\\right)$ gives the necessary conditions:\n",
    "\n",
    "\\begin{align}\n",
    "\\dot{\\lambda}_{1} = -\\frac{\\partial H}{\\partial x} = 0, \\quad \\dot{\\lambda}_{2} = -\\frac{\\partial H}{\\partial y} = -\\frac{g}{V}\\left(\\lambda_{1}\\cos\\theta + \\lambda_{2}\\sin\\theta\\right),\\\\\n",
    "0 = \\frac{\\partial H}{\\partial\\theta} = -\\lambda_{1}V\\sin\\theta + \\lambda_{2}V\\cos\\theta. \n",
    "\\end{align}\n",
    "From the costate ODEs, $\\lambda_{1} = $ constant.\n",
    "Since ${{\\rm{d}}x}(T)=0$, and $dT\\neq 0$, the transversality condition yields $H(T) = 0$. But since $H(t)$ has no explcit time dependence, it must be constant along the optimal trajectory, which combined with $H(T) = 0$ gives $H(t)=0$ for all $t\\in[0,T]$. In other words, \n",
    "\\begin{align}\n",
    "H = 1 + \\lambda_{1}V\\cos\\theta + \\lambda_{2}V\\sin\\theta = 0.\n",
    "\\end{align}\n",
    "Eliminating $\\lambda_{2}$ from (2) and (3), we obtain\n",
    "\\begin{align}\n",
    "\\lambda_{1} = -\\frac{\\cos\\theta}{V}.\n",
    "\\end{align}\n",
    "Likewise, eliminating $\\lambda_{1}$ from (2) and (3), we obtain\n",
    "\\begin{align}\n",
    "\\lambda_{2} = -\\frac{\\sin\\theta}{V}.\n",
    "\\end{align}\n",
    "Furthermore, combining (4) with $\\dot{\\lambda}_{1}=0$, we get\n",
    "\\begin{align}\n",
    "0=\\dot{\\lambda}_{1} = \\frac{\\partial\\lambda_{1}}{\\partial\\theta}\\dot{\\theta} + \\frac{\\partial\\lambda_{1}}{\\partial y}\\dot{y} = \\frac{\\sin\\theta}{V}\\dot{\\theta} + \\frac{g\\sin\\theta\\cos\\theta}{V^{2}}\\\\\n",
    "\\Rightarrow\\quad 0 = \\dot{\\theta} + \\frac{g}{V}\\cos\\theta \\quad \\Rightarrow\\quad \\dot{\\theta} = -\\frac{g}{V}\\cos\\theta.\n",
    "\\end{align}\n",
    "\n",
    "Now, evaluating (4) at $t=t$ and $t=T$, and using the fact that $\\lambda_{1}$ is constant, we obtain\n",
    "\\begin{align}\n",
    "\\frac{\\cos\\theta(t)}{\\sqrt{y(t)}} = \\frac{\\cos\\theta(T)}{\\sqrt{y_{1}}} \\quad\\Rightarrow\\quad y(t) = y_{1}\\frac{\\cos^{2}\\theta(t)}{\\cos^{2}\\theta(T)}.\n",
    "\\end{align}\n",
    "\n",
    "Next, we use $\\dot{x}=V\\cos\\theta$, together with (7), to get\n",
    "\\begin{align}\n",
    "V\\cos\\theta = \\dot{x} = \\frac{{\\rm{d}}x}{{\\rm{d}}\\theta}\\dot{\\theta} = \\frac{{\\rm{d}}x}{{\\rm{d}}\\theta} \\times \\left(-\\frac{g}{V}\\cos\\theta\\right) \\quad\\Rightarrow\\quad \\frac{{\\rm{d}}x}{{\\rm{d}}\\theta} = -2y = -\\frac{2y_{1}}{\\cos^{2}\\theta(T)}\\cos^{2}\\theta,\n",
    "\\end{align}\n",
    "\n",
    "wherein the last equality follows from (8). Integrating (9), we have\n",
    "\n",
    "$$\\int_{x=x}^{x=x_{1}}{\\rm{d}}x = -\\frac{2y_{1}}{\\cos^{2}\\theta(T)}\\int_{\\theta=\\theta}^{\\theta=\\theta(T)}\\cos^{2}\\theta\\:{\\rm{d}}\\theta\\\\ \\Rightarrow\\quad x(t) = x_{1} + \\frac{y_{1}}{2\\cos^{2}\\theta(T)}\\bigg\\{2\\left(\\theta(T) - \\theta(t)\\right) + \\sin\\left(2\\theta(T)\\right) - \\sin\\left(2\\theta(t)\\right)\\bigg\\}.$$\n",
    "\n",
    "We conclude by noting that (8) and (10) are the desired identities."
   ]
  },
  {
   "cell_type": "markdown",
   "metadata": {},
   "source": [
    "## (c) [2 + 3 + 5 = 10 points] Properties of optimal solution"
   ]
  },
  {
   "cell_type": "markdown",
   "metadata": {},
   "source": [
    "(c.1) Prove that the optimal control $\\theta(t)$ satisfies $\\dot{\\theta} = $ constant."
   ]
  },
  {
   "cell_type": "markdown",
   "metadata": {},
   "source": [
    "## Solution of part (c.1):\n",
    "From equations (4) and (7) above, we get $\\dot{\\theta} = g\\lambda_{1} =$ constant, assuming $g$ is constant as in the original Brachistochrone formulation."
   ]
  },
  {
   "cell_type": "markdown",
   "metadata": {},
   "source": [
    "(c.2) Prove that $\\theta(0) = \\frac{\\pi}{2}$. Give a physical interpretation of this result."
   ]
  },
  {
   "cell_type": "markdown",
   "metadata": {},
   "source": [
    "## Solution for part (c.2):\n",
    "Evaluating equation (6) above at $t=0$ gives $\\theta(0)=\\frac{\\pi}{2}$. Vertical initial heading is natural since the terminal point $B$ is below the initial point $A$. In other words, to minimize the time to go, it is optimal to increase the vertical coordinate as fast as possible. "
   ]
  },
  {
   "cell_type": "markdown",
   "metadata": {},
   "source": [
    "(c.3) Letting $\\phi := \\pi - 2\\theta$, use your answer in part (b) to deduce that the optimal curve is a cycloid. "
   ]
  },
  {
   "cell_type": "markdown",
   "metadata": {
    "collapsed": true
   },
   "source": [
    "## Solution for part (c.2):\n",
    "In equations (6) and (8) above, we substitute $\\theta$ as function of $\\phi$, and define a constant\n",
    "\n",
    "$$a := \\frac{y_{1}}{2\\cos^{2}\\theta(T)} = \\frac{y_{1}}{1-\\cos\\phi(T)}.$$\n",
    "\n",
    "Then (6) gives \n",
    "$$y = a\\left[1 + \\cos(\\pi-\\phi)\\right]=a\\left(1-\\cos\\phi\\right). \\qquad (9)$$ \n",
    "Similarly, (8) gives \n",
    "$$x-x_{1} + a\\left[\\phi(T) - \\sin\\phi(T)\\right]=a(\\phi-\\sin\\phi). \\quad (10)$$\n",
    "Equations (9)-(10) give the parametric form of a cycloid passing through $(x_1,y_1)$. Here, $\\theta(T)$ (and thus $\\phi(T)$) is such that the cycloid passes though point A with coordinate $(0,0)$."
   ]
  },
  {
   "cell_type": "code",
   "execution_count": null,
   "metadata": {
    "collapsed": true
   },
   "outputs": [],
   "source": []
  }
 ],
 "metadata": {
  "kernelspec": {
   "display_name": "Python 2",
   "language": "python",
   "name": "python2"
  },
  "language_info": {
   "codemirror_mode": {
    "name": "ipython",
    "version": 2
   },
   "file_extension": ".py",
   "mimetype": "text/x-python",
   "name": "python",
   "nbconvert_exporter": "python",
   "pygments_lexer": "ipython2",
   "version": "2.7.14"
  }
 },
 "nbformat": 4,
 "nbformat_minor": 2
}
