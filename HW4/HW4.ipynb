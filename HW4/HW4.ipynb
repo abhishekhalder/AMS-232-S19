{
 "cells": [
  {
   "cell_type": "markdown",
   "metadata": {},
   "source": [
    "# Problem 1. [50 points] LQR Design Problem"
   ]
  },
  {
   "cell_type": "markdown",
   "metadata": {},
   "source": [
    "To enable extreme maneuverability, fighter aircrafts are intentionally designed to be open-loop unstable, but controller-in-the-loop stabilizable. Consider a fighter aircraft with approximate longitudinal dynamics\n",
    "\n",
    "$$\\begin{pmatrix}\n",
    "\\dot{\\alpha}\\\\\n",
    "\\dot{q}\\\\\n",
    "\\dot{\\theta}\n",
    "\\end{pmatrix} = \\begin{pmatrix}\n",
    "-0.313 & 56.7 & 0\\\\\n",
    "    -0.139 & -1.426 & 0.024\\\\\n",
    "   0.231 & 56.7 & 0.025\n",
    "\\end{pmatrix}\n",
    "\\begin{pmatrix}\n",
    "\\alpha\\\\\n",
    "q\\\\\n",
    "\\theta\n",
    "\\end{pmatrix} + \\begin{pmatrix}\n",
    "0.232\\\\ 0.0203\\\\ 0\n",
    "\\end{pmatrix}\\delta_{e},\n",
    "$$\n",
    "\n",
    "in which the state vector $x = (\\alpha, q, \\theta)^{\\top}$ consists of the angle-of-attack (rad), the pitch rate $q$ (rad/s), and the pitch angle (rad). The only control is the elevator deflection angle $\\delta_{e}$ (rad)."
   ]
  },
  {
   "cell_type": "markdown",
   "metadata": {},
   "source": [
    "## (a) [5 + 3 + 2 = 10 points] Open-loop trajectories"
   ]
  },
  {
   "cell_type": "markdown",
   "metadata": {},
   "source": [
    "(a.1) In MATLAB, consider a time horizon $t = 0:0.01:15$, and for a random initial condition, i.e., for $x(0)={\\rm{rand}}(3,1)$, plot the three open-loop/uncontrolled trajectories $\\alpha(t), q(t), \\theta(t)$.\n",
    "\n",
    "It is desired that the state vector $x(t)$ remains as close to zero as possible, for all times.\n",
    "\n",
    "(a.2) From the above plot, which components of the state vector require active control/stabilization? \n",
    "\n",
    "(a.3) Support your answer in part (a.2) by computing eig($A$) for the associated state matrix $A$.  "
   ]
  },
  {
   "cell_type": "markdown",
   "metadata": {},
   "source": [
    "## (b) [3 + (2+2) + 3 + 5  = 15 points] Controllability, observability and LQR "
   ]
  },
  {
   "cell_type": "markdown",
   "metadata": {},
   "source": [
    "(b.1) By identifying the appropriate matrices $(A,B)$ in our case, determine if the pair $(A,B)$ is controllable. You may find the MATLAB command \"ctrb(A,B)\" useful.\n",
    "\n",
    "(b.2) Based on your answer in part (a.2), construct an appropriate $C$ matrix, and define $Q = C^{\\top}C$. Carefully explain what does it mean to use this particular $Q$ matrix in the infinite horizon LQR Lagrangian. \n",
    "\n",
    "(b.3) Check if the matrix pair $(A,C)$ is observable in our case. You may find the MATLAB command \"obsv(A,C)\" useful. \n",
    "\n",
    "(b.4) Look up Lecture 10, slides 1 and 2, and Proposition C.3 in particular. Based on your answers in (b.1)--(b.3), what can you theoretically predict via Proposition C.3?"
   ]
  },
  {
   "cell_type": "markdown",
   "metadata": {},
   "source": [
    "## (c) [10 + (2+3) + 5 + 5 = 25 points] Infinite horizon LQR"
   ]
  },
  {
   "cell_type": "markdown",
   "metadata": {},
   "source": [
    "(c.1) Use the MATLAB \"lqr\" command to implement a continuous time infinite horizon LQR for our system with $R=1$ and no cross-weight. For the same initial condition $x(0)$ used in (a.1), plot the closed-loop trajecotries $\\alpha_{\\text{cl}}(t), q_{\\text{cl}}(t), \\theta_{\\text{cl}}(t)$ together with the respective open-loop trajectories in (a.1).\n",
    "\n",
    "(c.2) By visual inspection, what is your conclusion from the plot in (c.1)? Support your conclusion by computing the closed-loop eigenvalues of the matrix $(A-BK_{\\infty})$.\n",
    "\n",
    "(c.3) Is the $P_{\\infty}$ that solves your CARE, turned out to be positive semi-definite or positive definite? Explain why.\n",
    "\n",
    "(c.4) Plot the optimal elevator deflection angle $\\delta_{e}^{*}$ as function of time $t$."
   ]
  },
  {
   "cell_type": "code",
   "execution_count": null,
   "metadata": {
    "collapsed": true
   },
   "outputs": [],
   "source": []
  }
 ],
 "metadata": {
  "kernelspec": {
   "display_name": "Python 2",
   "language": "python",
   "name": "python2"
  },
  "language_info": {
   "codemirror_mode": {
    "name": "ipython",
    "version": 2
   },
   "file_extension": ".py",
   "mimetype": "text/x-python",
   "name": "python",
   "nbconvert_exporter": "python",
   "pygments_lexer": "ipython2",
   "version": "2.7.14"
  }
 },
 "nbformat": 4,
 "nbformat_minor": 2
}
