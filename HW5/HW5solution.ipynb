{
 "cells": [
  {
   "cell_type": "markdown",
   "metadata": {},
   "source": [
    "# Problem 1. [50 points] Moon Landing"
   ]
  },
  {
   "cell_type": "markdown",
   "metadata": {},
   "source": [
    "Consider the vertical (1D) descent of a spacecraft onto the lunar surface. The descent phase starts at $t=0$, and the touchdown happens at (free) final time $t=T$. Because of the lack of atomosphere, the spacecraft needs to use thrust to negate free fall due to gravity, and thereby ensure soft landing. \n",
    "\n",
    "<img src=\"MoonLanding.png\">\n",
    "\n",
    "Let $g$ be the constant (lunar) acceleration due to gravity during the descent. Suppose the mass of the fuel at time $t$ is $m(t)$, which changes over $0\\leq t \\leq T$ since the fuel is burnt to generate the thrust $\\tau = -k\\dot{m}$, where the velocity of exhaust gas w.r.t. the spacecraft is a constant $k>0$. Let $h(t)$ be the altitude of the spacecraft above the lunar surface at time $t$. From Newton's law (force balance), we have\n",
    "\n",
    "$$m\\ddot{h} = \\tau - mg = -k\\dot{m} - mg.$$\n",
    "\n",
    "The initial conditions are given: $h(0):=h_{0}>0$, $\\dot{h}(0)=v_{0}<0$, $m(0)=m_{0}>0$. The terminal constraints are: $h(T)=0$, $\\dot{h}(T)=0$; however $m(T)$ is free. Here, the control $u$ is the rate of fuel consumption, i.e., $\\dot{m} = u$. The engine imposes the constraint: $-\\alpha \\leq u \\leq 0$, for some known constant $\\alpha>0$.\n",
    "\n",
    "Since the spacecraft would like to return to Earth, the control objective is to maximize the fuel remaining $m(T)$ at touchdown, i.e., to minimize the fuel consumed: $m_{0} - m(T)$."
   ]
  },
  {
   "cell_type": "markdown",
   "metadata": {},
   "source": [
    "## (a) [3 + 2 + 5 = 10 points] Optimal Control Problem"
   ]
  },
  {
   "cell_type": "markdown",
   "metadata": {},
   "source": [
    "(a.1) Clearly define the state vector $x = (x_{1}, x_{2}, x_{3})^{\\top}\\in\\mathbb{R}^{3}$ and write the optimal control problem in standard **Mayer form**.\n",
    "\n",
    "(a.2) Rewrite the same optimal control problem in **Lagrange form**. \n",
    "\n",
    "(a.3) Prove that the above optimal control problem is equivalent to minimizing $T$, i.e., **the most fuel economic descent is also the fastest descent**. "
   ]
  },
  {
   "cell_type": "markdown",
   "metadata": {},
   "source": [
    "## Solution for part (a):\n",
    "(a.1) Let us define the state vector $x=(x_{1},x_{2},x_{3})^{\\top}\\equiv (h,\\dot{h},m)^{\\top}$. Therefore, the OCP in standard **Mayer form** is given by\n",
    "\n",
    "\\begin{align*}\n",
    "&\\underset{u}{\\text{minimize}}\\quad -x_{3}(T)\\\\\n",
    "&\\text{subject to}\\quad \\dot{x}_{1} = x_{2}, \\quad \\dot{x}_{2} = -\\dfrac{k}{x_{3}}u - g, \\quad \\dot{x}_{3} = u,\\\\\n",
    "& \\qquad\\qquad (x_{1}(0),x_{2}(0),x_{3}(0))^{\\top} = (h_{0},v_{0},m_{0})^{\\top}\\;(\\text{given}),\\\\\n",
    "& \\qquad\\qquad (x_{1}(T),x_{2}(T),x_{3}(T))^{\\top} = (0,0,\\text{free})^{\\top}, \\quad T\\;\\text{free},\\\\\n",
    "& \\qquad\\qquad -\\alpha \\leq u \\leq 0.\n",
    "\\end{align*}\n",
    "\n",
    "(a.2) Since adding the constant $x_{3}(0)$ in the objective in (a.1) does not alter the cost, and since $x_{3}(0) - x_{3}(T) = -\\int_{0}^{T} \\dot{x}_{3} \\:{\\rm{d}}t$, hence the OCP in (a.1) can be written in **Lagrange form** as\n",
    "\n",
    "\\begin{align*}\n",
    "&\\underset{u}{\\text{minimize}}\\quad -\\int_{0}^{T} u(t) \\:{\\rm{d}}t\\\\\n",
    "&\\text{subject to}\\quad \\dot{x}_{1} = x_{2}, \\quad \\dot{x}_{2} = -\\dfrac{k}{x_{3}}u - g, \\quad \\dot{x}_{3} = u,\\\\\n",
    "& \\qquad\\qquad (x_{1}(0),x_{2}(0),x_{3}(0))^{\\top} = (h_{0},v_{0},m_{0})^{\\top}\\;(\\text{given}),\\\\\n",
    "& \\qquad\\qquad (x_{1}(T),x_{2}(T),x_{3}(T))^{\\top} = (0,0,\\text{free})^{\\top}, \\quad T\\;\\text{free},\\\\\n",
    "& \\qquad\\qquad -\\alpha \\leq u \\leq 0.\n",
    "\\end{align*}\n",
    "\n",
    "(a.3) We start from noting that the given dynamics can be written as $\\ddot{h} = -k\\frac{\\rm{d}}{\\rm{d}t}\\left(\\ln m\\right) - g$, which upon integrating between the limits $0$ and $t$, yields\n",
    "$$\\dot{h}(t) = -k\\ln\\frac{m(t)}{m_{0}} - gt + v_{0}.$$\n",
    "Substituting $t=T$ in the above expression, and then using the given terminal condition $\\dot{h}(T)=0$, results\n",
    "\n",
    "$$m(T) = m_{0}\\exp\\left(\\dfrac{v_{0}-gT}{k}\\right) \\quad \\Rightarrow \\quad m_{0} - m(T) = m_{0}\\bigg\\{1 - \\exp\\left(\\dfrac{v_{0}-gT}{k}\\right)\\bigg\\}.$$\n",
    "\n",
    "The LHS of the last expression is the objective of our OCP (from (a.1)). The RHS of the last expression is a strictly increasing function of $T$. Thus, minimizing the LHS is same as minimizing $T$. Hence the statement."
   ]
  },
  {
   "cell_type": "markdown",
   "metadata": {},
   "source": [
    "## (b) [(1 + 1 + 2 + 1) + 15 + 2 + 8  = 30 points] Analytical Solution"
   ]
  },
  {
   "cell_type": "markdown",
   "metadata": {},
   "source": [
    "(b.1) For the optimal control problem in part (a.3), write the **Hamiltonian** $H$, the **costate ODEs**, the **PMP**, and the **transversality condition**.\n",
    "\n",
    "(b.2) **Prove that** there does not exist any subinterval of $[0,T]$ where the optimal control is singular.\n",
    "\n",
    "[**Hint:** If possible, assume that there exist a finite subinterval $[t_{1},t_{2}]$ with $0< t_{1} < t_{2} < T$, where the optimal control is singular. Then prove by contradiction. Use the physical condition that $x_{3}(t)>0$ for all $t\\in[0,T]$, even though we did not explicitly enforce that as part of the necessary condition.]\n",
    "\n",
    "(b.3) Using (b.1)-(b.2), **argue that** the optimal control $u^{*}$ must take extreme values, i.e., $u^{*}(t)\\in\\{-\\alpha,0\\}$ for all $t\\in[0,T]$. However, it is not yet clear how many switchings are possible.\n",
    "\n",
    "(b.4) It is rather technical to prove that at most one switching is possible in this problem, i.e., $u^{*}$ is bang-bang. We will not prove this. Instead, use this information to **show that** the optimal control policy is to **either** use full thrust from $t=0$ to $t=T$, **or** to use a period of zero thrust (free fall) followed by full thrust until touchdown, depending on certain switching curve in the state space."
   ]
  },
  {
   "cell_type": "markdown",
   "metadata": {},
   "source": [
    "## Solution for part (b):\n",
    "(b.1) From (a.3), ours is a minimum time OCP. Therefore, the Hamiltonian \n",
    "\n",
    "$$H = 1 + \\lambda_{1}x_{2} - \\lambda_{2}\\left(g + \\frac{k}{x_{3}}u\\right) + \\lambda_{3}u = 1 + \\lambda_{1}x_{2} - \\lambda_{2}g + \\left(\\lambda_{3} - \\frac{k\\lambda_{2}}{x_{3}}\\right)u.$$\n",
    "\n",
    "The costate ODEs are\n",
    "$$\\dot{\\lambda}_{1} = 0, \\quad \\dot{\\lambda}_{2} = -\\lambda_{1}, \\quad \\dot{\\lambda}_{3} = -\\frac{k\\lambda_{2}u}{x_{3}^{2}}.$$\n",
    "\n",
    "The PMP yields\n",
    "$$u^{*}(t) = \\begin{cases}-\\alpha &\\text{if}\\quad \\lambda_{3} - \\frac{k\\lambda_{2}}{x_{3}} > 0,\\\\\n",
    "0 &\\text{if}\\quad \\lambda_{3} - \\frac{k\\lambda_{2}}{x_{3}} < 0,\\\\\n",
    "??\\,(\\text{singular optimal control}) &\\text{if}\\quad \\lambda_{3} - \\frac{k\\lambda_{2}}{x_{3}} = 0.\\end{cases}$$\n",
    "\n",
    "Furthermore, the transversaility condition gives $\\lambda_{3}(T) = 0$."
   ]
  },
  {
   "cell_type": "markdown",
   "metadata": {},
   "source": [
    "## (c) [10 points] Numerical Solution"
   ]
  },
  {
   "cell_type": "markdown",
   "metadata": {},
   "source": [
    "In this exercise, we will use the direct optimal control solver ICLOCS (http://www.ee.ic.ac.uk/ICLOCS/default.htm) within MATLAB environment to numerically solve the problem in (a.3). Follow download instructions here: http://www.ee.ic.ac.uk/ICLOCS/Downloads.html (requires IPOPT; we do not recommend fmincon). Check out the \"Example Problems\" tab and its dropdown list. Solve a listed simple example problem to reproduce the plots in the website before coding up our problem in (a.3). Plot the **optimal control and optimal state trajectories** for (a.3) via ICLOCS. **Does your numerical solution corroborate the analytical findings in part (b)?** "
   ]
  },
  {
   "cell_type": "code",
   "execution_count": null,
   "metadata": {
    "collapsed": true
   },
   "outputs": [],
   "source": []
  }
 ],
 "metadata": {
  "kernelspec": {
   "display_name": "Python 2",
   "language": "python",
   "name": "python2"
  },
  "language_info": {
   "codemirror_mode": {
    "name": "ipython",
    "version": 2
   },
   "file_extension": ".py",
   "mimetype": "text/x-python",
   "name": "python",
   "nbconvert_exporter": "python",
   "pygments_lexer": "ipython2",
   "version": "2.7.14"
  }
 },
 "nbformat": 4,
 "nbformat_minor": 2
}
