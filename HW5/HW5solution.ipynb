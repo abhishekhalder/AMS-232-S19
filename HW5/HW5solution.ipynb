{
 "cells": [
  {
   "cell_type": "markdown",
   "metadata": {},
   "source": [
    "# Problem 1. [50 points] Moon Landing"
   ]
  },
  {
   "cell_type": "markdown",
   "metadata": {},
   "source": [
    "Consider the vertical (1D) descent of a spacecraft onto the lunar surface. The descent phase starts at $t=0$, and the touchdown happens at (free) final time $t=T$. Because of the lack of atomosphere, the spacecraft needs to use thrust to negate free fall due to gravity, and thereby ensure soft landing. \n",
    "\n",
    "<img src=\"MoonLanding.png\">\n",
    "\n",
    "Let $g$ be the constant (lunar) acceleration due to gravity during the descent. Suppose the mass of the fuel at time $t$ is $m(t)$, which changes over $0\\leq t \\leq T$ since the fuel is burnt to generate the thrust $\\tau = -k\\dot{m}$, where the velocity of exhaust gas w.r.t. the spacecraft is a constant $k>0$. Let $h(t)$ be the altitude of the spacecraft above the lunar surface at time $t$. From Newton's law (force balance), we have\n",
    "\n",
    "$$m\\ddot{h} = \\tau - mg = -k\\dot{m} - mg.$$\n",
    "\n",
    "The initial conditions are given: $h(0):=h_{0}>0$, $\\dot{h}(0)=v_{0}<0$, $m(0)=m_{0}>0$. The terminal constraints are: $h(T)=0$, $\\dot{h}(T)=0$; however $m(T)$ is free. Here, the control $u$ is the rate of fuel consumption, i.e., $\\dot{m} = u$. The engine imposes the constraint: $-\\alpha \\leq u \\leq 0$, for some known constant $\\alpha>0$.\n",
    "\n",
    "Since the spacecraft would like to return to Earth, the control objective is to maximize the fuel remaining $m(T)$ at touchdown, i.e., to minimize the fuel consumed: $m_{0} - m(T)$."
   ]
  },
  {
   "cell_type": "markdown",
   "metadata": {},
   "source": [
    "## (a) [3 + 2 + 5 = 10 points] Optimal Control Problem"
   ]
  },
  {
   "cell_type": "markdown",
   "metadata": {},
   "source": [
    "(a.1) Clearly define the state vector $x = (x_{1}, x_{2}, x_{3})^{\\top}\\in\\mathbb{R}^{3}$ and write the optimal control problem in standard **Mayer form**.\n",
    "\n",
    "(a.2) Rewrite the same optimal control problem in **Lagrange form**. \n",
    "\n",
    "(a.3) Prove that the above optimal control problem is equivalent to minimizing $T$, i.e., **the most fuel economic descent is also the fastest descent**. "
   ]
  },
  {
   "cell_type": "markdown",
   "metadata": {},
   "source": [
    "## Solution for part (a):\n",
    "(a.1) Let us define the state vector $x=(x_{1},x_{2},x_{3})^{\\top}\\equiv (h,\\dot{h},m)^{\\top}$. Therefore, the OCP in standard **Mayer form** is given by\n",
    "\n",
    "\\begin{align*}\n",
    "&\\underset{u}{\\text{minimize}}\\quad -x_{3}(T)\\\\\n",
    "&\\text{subject to}\\quad \\dot{x}_{1} = x_{2}, \\quad \\dot{x}_{2} = -\\dfrac{k}{x_{3}}u - g, \\quad \\dot{x}_{3} = u,\\\\\n",
    "& \\qquad\\qquad (x_{1}(0),x_{2}(0),x_{3}(0))^{\\top} = (h_{0},v_{0},m_{0})^{\\top}\\;(\\text{given}),\\\\\n",
    "& \\qquad\\qquad (x_{1}(T),x_{2}(T),x_{3}(T))^{\\top} = (0,0,\\text{free})^{\\top}, \\quad T\\;\\text{free},\\\\\n",
    "& \\qquad\\qquad -\\alpha \\leq u \\leq 0.\n",
    "\\end{align*}\n",
    "\n",
    "(a.2) Since adding the constant $x_{3}(0)$ in the objective in (a.1) does not alter the cost, and since $x_{3}(0) - x_{3}(T) = -\\int_{0}^{T} \\dot{x}_{3} \\:{\\rm{d}}t$, hence the OCP in (a.1) can be written in **Lagrange form** as\n",
    "\n",
    "\\begin{align*}\n",
    "&\\underset{u}{\\text{minimize}}\\quad -\\int_{0}^{T} u(t) \\:{\\rm{d}}t\\\\\n",
    "&\\text{subject to}\\quad \\dot{x}_{1} = x_{2}, \\quad \\dot{x}_{2} = -\\dfrac{k}{x_{3}}u - g, \\quad \\dot{x}_{3} = u,\\\\\n",
    "& \\qquad\\qquad (x_{1}(0),x_{2}(0),x_{3}(0))^{\\top} = (h_{0},v_{0},m_{0})^{\\top}\\;(\\text{given}),\\\\\n",
    "& \\qquad\\qquad (x_{1}(T),x_{2}(T),x_{3}(T))^{\\top} = (0,0,\\text{free})^{\\top}, \\quad T\\;\\text{free},\\\\\n",
    "& \\qquad\\qquad -\\alpha \\leq u \\leq 0.\n",
    "\\end{align*}\n",
    "\n",
    "(a.3) We start by noting that the given dynamics can be written as $\\ddot{h} = -k\\frac{\\rm{d}}{\\rm{d}t}\\left(\\ln m\\right) - g$, which upon integrating between the limits $0$ and $t$, yields\n",
    "$$\\dot{h}(t) = -k\\ln\\frac{m(t)}{m_{0}} - gt + v_{0}.$$\n",
    "Substituting $t=T$ in the above expression, and then using the given terminal condition $\\dot{h}(T)=0$, results\n",
    "\n",
    "$$m(T) = m_{0}\\exp\\left(\\dfrac{v_{0}-gT}{k}\\right) \\quad \\Rightarrow \\quad m_{0} - m(T) = m_{0}\\bigg\\{1 - \\exp\\left(\\dfrac{v_{0}-gT}{k}\\right)\\bigg\\}.$$\n",
    "\n",
    "The LHS of the last expression is the objective of our OCP (from (a.1)). The RHS of the last expression is a strictly increasing function of $T$. Thus, minimizing the LHS is same as minimizing $T$. Hence the statement."
   ]
  },
  {
   "cell_type": "markdown",
   "metadata": {},
   "source": [
    "## (b) [(1 + 1 + 2 + 1) + 15 + 2 + 8  = 30 points] Analytical Solution"
   ]
  },
  {
   "cell_type": "markdown",
   "metadata": {},
   "source": [
    "(b.1) For the optimal control problem in part (a.3), write the **Hamiltonian** $H$, the **costate ODEs**, the **PMP**, and the **transversality condition**.\n",
    "\n",
    "(b.2) **Prove that** there does not exist any subinterval of $[0,T]$ where the optimal control is singular.\n",
    "\n",
    "[**Hint:** If possible, assume that there exist a finite subinterval $[t_{1},t_{2}]$ with $0< t_{1} < t_{2} < T$, where the optimal control is singular. Then prove by contradiction. Use the physical condition that $x_{3}(t)>0$ for all $t\\in[0,T]$, even though we did not explicitly enforce that as part of the necessary condition.]\n",
    "\n",
    "(b.3) Using (b.1)-(b.2), **argue that** the optimal control $u^{*}$ must take extreme values, i.e., $u^{*}(t)\\in\\{-\\alpha,0\\}$ for all $t\\in[0,T]$. However, it is not yet clear how many switchings are possible.\n",
    "\n",
    "(b.4) It is rather technical to prove that at most one switching is possible in this problem, i.e., $u^{*}$ is bang-bang. We will not prove this. Instead, use this information to **show that** the optimal control policy is to **either** use full thrust from $t=0$ to $t=T$, **or** to use a period of zero thrust (free fall) followed by full thrust until touchdown, depending on certain switching curve in the state space."
   ]
  },
  {
   "cell_type": "markdown",
   "metadata": {},
   "source": [
    "## Solution for part (b):\n",
    "(b.1) From (a.3), ours is a minimum time OCP. Therefore, the Hamiltonian \n",
    "\n",
    "$$H = 1 + \\lambda_{1}x_{2} - \\lambda_{2}\\left(g + \\frac{k}{x_{3}}u\\right) + \\lambda_{3}u = 1 + \\lambda_{1}x_{2} - \\lambda_{2}g + \\left(\\lambda_{3} - \\frac{k\\lambda_{2}}{x_{3}}\\right)u.$$\n",
    "\n",
    "The costate ODEs are\n",
    "$$\\dot{\\lambda}_{1} = 0, \\quad \\dot{\\lambda}_{2} = -\\lambda_{1}, \\quad \\dot{\\lambda}_{3} = -\\frac{k\\lambda_{2}u}{x_{3}^{2}}.$$\n",
    "\n",
    "The PMP yields\n",
    "$$u^{*}(t) = \\begin{cases}-\\alpha &\\text{if}\\quad \\lambda_{3} - \\frac{k\\lambda_{2}}{x_{3}} > 0,\\\\\n",
    "0 &\\text{if}\\quad \\lambda_{3} - \\frac{k\\lambda_{2}}{x_{3}} < 0,\\\\\n",
    "??\\,(\\text{singular optimal control}) &\\text{if}\\quad \\lambda_{3} - \\frac{k\\lambda_{2}}{x_{3}} = 0.\\end{cases}$$\n",
    "\n",
    "There are two ways to impose the transversality condition here. One way is to consider ${\\rm{d}}x_{3}(T)$ and ${\\rm{d}}T$ dependent due to (a.3) [see Case IV.B in the Remarks file with Lecture 7]. Another way to impose the same is to argue that since (a.3) is a consequence of the state ODEs, which we anyway enforce, therefore, we do not need to \"double enforce\" the same in transversality, i.e., Case IV.A applies. We only illustrate the latter case here, which gives $\\lambda_{3}(T)=0$, and $H(T)=0$. (the former case leads to the same conclusions for (b.2)-(b.4)).\n",
    "\n",
    "(b.2) If possible, let us assume that there exist a finite subinterval $[t_{1},t_{2}]$ with $0< t_{1} < t_{2} < T$, where the optimal control is singular, i.e., $\\lambda_{3}(t) - \\frac{k\\lambda_{2}(t)}{x_{3}(t)} = 0$ for $t\\in[t_{1},t_{2}]$. From the Hamiltonian in part (b.1), we then have $H(t) = 1 + \\lambda_{1}x_{2} - \\lambda_{2}g = \\text{constant}$ for $t\\in[t_{1},t_{2}]$. The constancy of the Hamiltonian is due to time invariance of the OCP. Therefore, we have\n",
    "\n",
    "$$0 = \\frac{{\\rm{d}}}{{\\rm{d}}t}H = 0 + \\lambda_{1} \\dot{x}_{2} - g\\dot{\\lambda}_{2} = \\lambda_{1}\\left(-\\dfrac{k}{x_{3}}u - g\\right) + g\\lambda_{1} = -\\dfrac{k}{x_{3}}\\lambda_{1}u \\:\\Rightarrow\\: \\lambda_{1}u(t)=0 \\quad\\text{for}\\;t\\in[t_1,t_2],$$\n",
    "\n",
    "where we used $k>0, x_3(t) > 0$. Combining $\\lambda_{1}u(t)=0$ for $t\\in[t_1,t_2]$ with the fact that $\\lambda_{1} =$ constant for all $t\\in[0,T]$ (from the first costate ODE), we have 2 cases to consider. \n",
    "\n",
    "**Case I:** $\\lambda_{1} \\equiv 0$ for $t\\in[0,T]$, and $u(t) \\neq 0$ for $t\\in[t_1,t_2]$. But then, from the second costate ODE, we have $\\lambda_{2} =$ constant for all $t\\in[0,T]$. There could be 3 sub-cases, depending on the sign of this constant $\\lambda_2$.\n",
    "\n",
    "**Case I.A:** $\\lambda_{2} \\equiv 0$ for $t\\in[0,T]$. Then $\\dot{\\lambda}_3 = 0$ from the third costate ODE. Since $\\lambda_3(T) = 0$, this gives $\\lambda_3 \\equiv 0$ for $t\\in[0,T]$. Thus, this sub-case gives $\\lambda_{1} = \\lambda_{2} = \\lambda_3 \\equiv 0$ for all $t\\in[0,T]$, which implies $H(t) \\equiv 1$ for all $t\\in[0,T]$. However, the constancy of the Hamiltonian, together with $H(T)=0$ demands $H(t) \\equiv 0$ for all $t\\in[0,T]$, thus giving a contradiction $1 = 0$. So this sub-case cannot happen.\n",
    "\n",
    "**Case I.B:** $\\lambda_{2} < 0$ for $t\\in[0,T]$, and hence so in $t\\in[t_1, t_2]$. But then, the Hamiltonian for $t\\in[t_1,t_2]$ gives $0 = H(t) = 1 + 0 + \\text{positive constant} + 0$, which is impossible.\n",
    "\n",
    "**Case I.C:** $\\lambda_{2} > 0$ for $t\\in[0,T]$, which together with the control constraint $u(t) \\leq 0$, and the third costate ODE give $\\dot{\\lambda}_3 > 0$. This, combined with $\\lambda_{3}(T)=0$, yields $\\lambda_3(t)<0$ for $t\\in[t_1,t_2]$. Consequently, the switching function $\\lambda_{3} - \\frac{k\\lambda_{2}}{x_{3}} < 0$ for $t\\in[t_1,t_2]$, which is a contradiction.\n",
    "\n",
    "**Case II:** $u(t)\\equiv 0$ for $t\\in[t_1,t_2]$, and $\\lambda_1$ is a non-zero constant for $t\\in[0,T]$. Notice that $u(t)\\equiv 0$ for $t\\in[t_1,t_2]$ implies $\\lambda_3$ is constant in that sub-interval, and that $x_3$ is also constant there (since $\\dot{x}_3 = u$). Thereofre, for the switching function $\\lambda_{3} - \\frac{k\\lambda_{2}}{x_{3}}$ to be equal to zero for all $t\\in[t_1,t_2]$, we must have $\\lambda_2 =$ constant in that interval. From $\\dot{\\lambda}_2 = -\\lambda_1$, this implies $\\lambda_1 \\equiv 0$ for all $t\\in[t_1,t_2]$. On the other hand, $\\lambda_1$ being a constant for all $t\\in[0,T]$, we arrive at $\\lambda_1\\equiv 0$ for all $t\\in[0,T]$, which, however, we proved as impossible in Case I.\n",
    "\n",
    "(b.3) Since the optimal control $u^{*}(t)$ cannot be singular (from (b.2)), therefore, from PMP we conclude that $u^{*}(t)\\in\\{-\\alpha,0\\}$ for all $t\\in[0,T]$.\n",
    "\n",
    "(b.4) As per the question, we suppose that at most one switching is possible. Then four possibilities remain, viz. **either** $u^{*}(t)=0$ for all $t\\in[0,T]$, **or** $u^{*}(t)=-\\alpha$ for all $t\\in[0,T]$, **or** $u^{*}(t)=0$ for $t\\in[0,\\widetilde{t})$ and $u^{*}(t)=-\\alpha$ for $t\\in[\\widetilde{t}, T]$, **or** $u^{*}(t)=-\\alpha$ for $t\\in[0,\\widetilde{t})$ and $u^{*}(t)=0$ for $t\\in[\\widetilde{t}, T]$ for some switching instance $\\widetilde{t}$. \n",
    "\n",
    "The **first possibility** ($u^{*}(t)=0$ for all $t\\in[0,T]$) should be ruled out, since otherwise, $\\dot{x}_2 = -g < 0$, which together with $x_2(0) = v_0 < 0$ imples $x_2(t) < 0$ for all $t\\in[0,T]$, and in particular that the given terminal condition $x_2(T) = 0$ cannot be satisfied.\n",
    "\n",
    "The **fourth possibility** (full thrust then free-fall), is also impossible since the post-switching (i.e., free-fall) phase mandates $\\dot{x}_2 < 0$; thus to satisfy $x_2(T)=0$ we need $x_2(t) > 0$ during the pre-switching (full thrust) phase. Consequently, $\\dot{x}_1 > 0$ in pre-switching phase, meaning that we cannot satisfy the terminal condition $x_1(T)=0$ unless $x_1(t) < 0$ for some $t$ in the post-switching phase. However, negative altitude is not admissible. Hence the claim."
   ]
  },
  {
   "cell_type": "markdown",
   "metadata": {},
   "source": [
    "## (c) [10 points] Numerical Solution"
   ]
  },
  {
   "cell_type": "markdown",
   "metadata": {},
   "source": [
    "In this exercise, we will use the direct optimal control solver ICLOCS (http://www.ee.ic.ac.uk/ICLOCS/default.htm) within MATLAB environment to numerically solve the problem in (a.3). Follow download instructions here: http://www.ee.ic.ac.uk/ICLOCS/Downloads.html (requires IPOPT; we do not recommend fmincon). Check out the \"Example Problems\" tab and its dropdown list. Solve a listed simple example problem to reproduce the plots in the website before coding up our problem in (a.3). Plot the **optimal control and optimal state trajectories** for (a.3) via ICLOCS. **Does your numerical solution corroborate the analytical findings in part (b)?** "
   ]
  },
  {
   "cell_type": "markdown",
   "metadata": {
    "collapsed": true
   },
   "source": [
    "## Solution for part (c):"
   ]
  },
  {
   "cell_type": "markdown",
   "metadata": {},
   "source": [
    "Sample plots, generated by ICLOCS, are shown below.\n",
    "\n",
    "<div class=\"row\">\n",
    "  <div class=\"column\">\n",
    "    <img src=\"OptimalStates.png\" width=450, height=450>\n",
    "  </div>\n",
    "  <div class=\"column\">\n",
    "    <img src=\"OptimalControl.png\" width=450, height=450>\n",
    "  </div>\n",
    "</div>\n",
    "\n",
    "As anticipated, the numerical results support the analytical findings of part (b)."
   ]
  },
  {
   "cell_type": "code",
   "execution_count": null,
   "metadata": {
    "collapsed": true
   },
   "outputs": [],
   "source": []
  }
 ],
 "metadata": {
  "kernelspec": {
   "display_name": "Python 2",
   "language": "python",
   "name": "python2"
  },
  "language_info": {
   "codemirror_mode": {
    "name": "ipython",
    "version": 2
   },
   "file_extension": ".py",
   "mimetype": "text/x-python",
   "name": "python",
   "nbconvert_exporter": "python",
   "pygments_lexer": "ipython2",
   "version": "2.7.14"
  }
 },
 "nbformat": 4,
 "nbformat_minor": 2
}
