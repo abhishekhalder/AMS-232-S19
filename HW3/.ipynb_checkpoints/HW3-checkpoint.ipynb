{
 "cells": [
  {
   "cell_type": "markdown",
   "metadata": {},
   "source": [
    "# Problem 1. [20 points] Pendulum with Moving Pivot"
   ]
  },
  {
   "cell_type": "markdown",
   "metadata": {},
   "source": [
    "Consider the pendulum with moving pivot shown in the following figure, where the pivot motion is a sinusoidal function of time, i.e.,\n",
    "$$x(t) = A \\sin\\Omega t,$$\n",
    "for some given constants $A,\\Omega$. The mass of the bob is $m$, and the massless rod is of length $\\ell$, as shown. Neglect friction. "
   ]
  },
  {
   "cell_type": "markdown",
   "metadata": {},
   "source": [
    "<img src=\"pendulumwithpivot.png\" height=\"350\" width=\"350\">"
   ]
  },
  {
   "cell_type": "markdown",
   "metadata": {},
   "source": [
    "## (a) [10 points] Equation of motion"
   ]
  },
  {
   "cell_type": "markdown",
   "metadata": {},
   "source": [
    "Use Euler-Lagrange equation to derive the equation of motion for the pendulum.\n",
    "\n",
    "(Hint: Start from the fact that the position vector for the pendulum is $r(t) = (A\\sin\\Omega t)\\widehat{n}_{1} + \\ell \\widehat{e}_{r}$. Then calculate $\\dot{r}(t)$, and proceed from there.)"
   ]
  },
  {
   "cell_type": "markdown",
   "metadata": {},
   "source": [
    "## (b) [(2+2+1) + 5 = 10 points] Conserved quantities "
   ]
  },
  {
   "cell_type": "markdown",
   "metadata": {},
   "source": [
    "(b.1) Compute the total energy $E$, and the Hamiltonian $H$. Is $H=E$ in this case? \n",
    "\n",
    "(b.2) Use your answer in part (b.1) to conclude if any of the two quantities among $H$ and $E$ is a constant of motion.\n",
    "\n",
    "(Hint: Compute $\\frac{\\rm{d}E}{{\\rm{d}}t}$ and $\\frac{{\\rm{d}}H}{{\\rm{d}}t}$ by direct differentiation.)"
   ]
  },
  {
   "cell_type": "markdown",
   "metadata": {},
   "source": [
    "# Problem 2. [30 points] Brachistochrone Revisited "
   ]
  },
  {
   "cell_type": "markdown",
   "metadata": {},
   "source": [
    "In this exercise, we will solve the Brachistochrone problem shown below using optimal control.\n",
    "\n",
    "<img src=\"BrachistochroneOCP.png\" height=\"350\" width=\"350\">"
   ]
  },
  {
   "cell_type": "markdown",
   "metadata": {},
   "source": [
    "## (a) [5 points] Optimal control reformulation"
   ]
  },
  {
   "cell_type": "markdown",
   "metadata": {
    "collapsed": true
   },
   "source": [
    "Let the control variable be the angle $\\theta$ that the velocity vector $V$ makes with the horizontal axis, as shown above. Reformulate the Brachistochrone problem of going from point $A\\equiv(0,0)$ to point $B\\equiv(x_{1},y_{1})$ as a **minimum time optimal control problem** with terminal time $T$ free, and terminal state $(x(T),y(T))$ fixed."
   ]
  },
  {
   "cell_type": "markdown",
   "metadata": {},
   "source": [
    "## (b) [15 points] Two identities"
   ]
  },
  {
   "cell_type": "markdown",
   "metadata": {},
   "source": [
    "Prove that the optimal position tuple $(x(t),y(t))$ at any time $t\\in[0,T]$, is given by\n",
    "\n",
    "$$x(t) = x_{1} + \\frac{y_{1}}{2\\cos^{2}\\theta(T)}\\bigg\\{2\\left(\\theta(T) - \\theta(t)\\right) + \\sin\\left(2\\theta(T)\\right) - \\sin\\left(2\\theta(t)\\right)\\bigg\\}, \\quad y(t) = y_{1}\\frac{\\cos^{2}\\theta(t)}{\\cos^{2}\\theta(T)}.$$\n",
    "\n",
    "The above two identities allow (numerically) solving for $(\\theta(t),\\theta(T))$ as function of $(x(t),y(t))$. This helps define optimal state feedback: $\\theta(t)$ as function of $(x(t),y(t))$."
   ]
  },
  {
   "cell_type": "markdown",
   "metadata": {},
   "source": [
    "## (c) [2 + 3 + 5 = 10 points] Properties of optimal solution"
   ]
  },
  {
   "cell_type": "markdown",
   "metadata": {},
   "source": [
    "(c.1) Prove that the optimal control $\\theta(t)$ satisfies $\\dot{\\theta} = $ constant."
   ]
  },
  {
   "cell_type": "markdown",
   "metadata": {},
   "source": [
    "(c.2) Prove that $\\theta(0) = \\frac{\\pi}{2}$. Give a physical interpretation of this result."
   ]
  },
  {
   "cell_type": "markdown",
   "metadata": {},
   "source": [
    "(c.3) Letting $\\phi := \\pi - 2\\theta$, use your answer in part (b) to deduce that the optimal curve is a cycloid. "
   ]
  },
  {
   "cell_type": "code",
   "execution_count": null,
   "metadata": {
    "collapsed": true
   },
   "outputs": [],
   "source": []
  }
 ],
 "metadata": {
  "kernelspec": {
   "display_name": "Python 2",
   "language": "python",
   "name": "python2"
  },
  "language_info": {
   "codemirror_mode": {
    "name": "ipython",
    "version": 2
   },
   "file_extension": ".py",
   "mimetype": "text/x-python",
   "name": "python",
   "nbconvert_exporter": "python",
   "pygments_lexer": "ipython2",
   "version": "2.7.14"
  }
 },
 "nbformat": 4,
 "nbformat_minor": 2
}
