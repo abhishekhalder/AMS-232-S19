{
 "cells": [
  {
   "cell_type": "markdown",
   "metadata": {},
   "source": [
    "# Problem 1. [20 points] Scalar Optimal Control Problem"
   ]
  },
  {
   "cell_type": "markdown",
   "metadata": {},
   "source": [
    "Consider the optimal control problem with fixed terminal time $T$, given by\n",
    "\n",
    "$$\\underset{u(\\cdot)}{\\text{minimize}}\\quad J, \\quad\\text{where}\\quad J:= \\frac{1}{2}\\int_{0}^{T}\\left(x^{2} + u^{2}\\right)\\:{\\rm{d}}t,$$\n",
    "\n",
    "subject to the scalar dynamics $\\dot{x} = u$, and initial condition $x(0)=x_{0}$."
   ]
  },
  {
   "cell_type": "markdown",
   "metadata": {},
   "source": [
    "## (a) [5 points] Two point boundary value problem "
   ]
  },
  {
   "cell_type": "markdown",
   "metadata": {},
   "source": [
    "**Derive** the two point boundary value problem (2PBVP) involving the state $x$ and costate $\\lambda$."
   ]
  },
  {
   "cell_type": "markdown",
   "metadata": {},
   "source": [
    "## Solution for part (a):\n",
    "The Hamiltonian is $H = \\frac{1}{2}\\left(x^{2} + u^{2}\\right) + \\lambda u$, where $\\$"
   ]
  },
  {
   "cell_type": "markdown",
   "metadata": {},
   "source": [
    "## (b) [3 + 2 = 5 points] Optimal control and optimal state "
   ]
  },
  {
   "cell_type": "markdown",
   "metadata": {},
   "source": [
    "(b.1) To solve the 2PBVP derived in part (a), consider the ansatz: $\\lambda(t) = p(t)x(t)$ for some to-be-determined function $p(t)$. **Derive and solve** an ODE initial value problem for the function $p(t)$.\n",
    "\n",
    "(b.2) Use your solution in part (b.1) to analytically compute the **optimal feedback control** $u^{*}(x,t)$ and the **optimal state trajectory** $x^{*}(t)$."
   ]
  },
  {
   "cell_type": "markdown",
   "metadata": {},
   "source": [
    "## (c) [4 + 1 = 5 points] Optimal cost"
   ]
  },
  {
   "cell_type": "markdown",
   "metadata": {},
   "source": [
    "Prove that the optimal cost $J^{*}$ satisfies\n",
    "\n",
    "$$J^{*} = \\frac{1}{2}x_{0}^{2}\\:\\tanh(T) = \\frac{1}{2}x_{0}^{2}\\: p(0).$$\n",
    "\n",
    "Interpret the observation that $J^{*}$ depends on $x_{0}$."
   ]
  },
  {
   "cell_type": "markdown",
   "metadata": {},
   "source": [
    "## (d) [2 + 3 = 5 points] Hamiltonian"
   ]
  },
  {
   "cell_type": "markdown",
   "metadata": {},
   "source": [
    "(d.1) Without doing any calculation, argue why the Hamiltonian along the optimal trajectory, denoted as $H^{*}$, must be a constant in this problem.\n",
    "\n",
    "(d.2) Determine the value of the constant $H^{*}$ in part (d.1) in terms of $x_{0}, T$."
   ]
  },
  {
   "cell_type": "markdown",
   "metadata": {},
   "source": [
    "# Problem 2. [30 points] How to Sail Fast"
   ]
  },
  {
   "cell_type": "markdown",
   "metadata": {},
   "source": [
    "In a river, a sailor would like to steer a boat through a region of strong currents, from an initial location $(x_{0},y_{0})$ to the final location $(0,0)$. Knowing that a storm is coming, the sailor would like to reach $(0,0)$ as fast as possible, i.e., in minimum time. The boat moves with constant speed $V$ but its heading $\\theta(t)$ can be adjusted, i.e., $\\theta(t)$ is a control variable. The current $c$ in the river varies as\n",
    "\n",
    "$$c(y) := \\frac{Vy}{h}, \\quad\\text{for some fixed}\\;h.$$\n",
    "\n",
    "Letting $(x,y)$ to be the position coordinate of the boat, its dynamics is given by\n",
    "\n",
    "$$\\dot{x} = V\\cos\\theta + c(y), \\qquad \\dot{y} = V\\sin\\theta.$$"
   ]
  },
  {
   "cell_type": "markdown",
   "metadata": {},
   "source": [
    "## (a) [5 points] Linear tangent law"
   ]
  },
  {
   "cell_type": "markdown",
   "metadata": {
    "collapsed": true
   },
   "source": [
    "Prove that the tangent of the optimal heading at time $t$, must be a linear function of $t$."
   ]
  },
  {
   "cell_type": "markdown",
   "metadata": {},
   "source": [
    "## (b) [5 points] Heading dynamics"
   ]
  },
  {
   "cell_type": "markdown",
   "metadata": {},
   "source": [
    "Show that the optimal heading angle $\\theta$ has dynamics: $\\dot{\\theta} = -\\frac{V}{h}\\cos^{2}\\theta$."
   ]
  },
  {
   "cell_type": "markdown",
   "metadata": {},
   "source": [
    "## (c) [10 points] Optimal state feedback"
   ]
  },
  {
   "cell_type": "markdown",
   "metadata": {},
   "source": [
    "Let $T$ be the (free) final time. Prove that the optimal state feedback $\\theta$ as function of $(x,y)$ (available from real-time GPS measurement, for example), is given **implicitly** by the following two coupled nonlinear equations, to be solved for $(\\theta(t),\\theta(T))$ as function of $(x(t),y(t))$:\n",
    "\n",
    "$$\\frac{x(t)}{h} = \\frac{1}{2}\\left[\\sec\\theta(T)\\left(\\tan\\theta(T) - \\tan\\theta(t)\\right) - \\tan\\theta(t)\\left(\\sec\\theta(T) - \\sec\\theta(t)\\right) + \\ln\\frac{\\sec\\theta(T) + \\tan\\theta(T)}{\\sec\\theta(t) + \\tan\\theta(t)}\\right],$$\n",
    "\n",
    "$$\\frac{y(t)}{h} = \\sec\\theta(T) - \\sec\\theta(t).$$"
   ]
  },
  {
   "cell_type": "markdown",
   "metadata": {},
   "source": [
    "## (d) [10 points] Plot optimal state and optimal control trajectories"
   ]
  },
  {
   "cell_type": "markdown",
   "metadata": {},
   "source": [
    "Let $V=1$, $h=1$, $(x_{0},y_{0}) = (4.9, 1.66)$. Use parts (b) and (c) above to numerically compute and then plot the optimal state trajectory in the $xy$ plane. In the same figure, plot arrows to show how the optimal heading varies along that optimal state trajectory."
   ]
  },
  {
   "cell_type": "code",
   "execution_count": null,
   "metadata": {
    "collapsed": true
   },
   "outputs": [],
   "source": []
  }
 ],
 "metadata": {
  "kernelspec": {
   "display_name": "Python 2",
   "language": "python",
   "name": "python2"
  },
  "language_info": {
   "codemirror_mode": {
    "name": "ipython",
    "version": 2
   },
   "file_extension": ".py",
   "mimetype": "text/x-python",
   "name": "python",
   "nbconvert_exporter": "python",
   "pygments_lexer": "ipython2",
   "version": "2.7.14"
  }
 },
 "nbformat": 4,
 "nbformat_minor": 2
}
