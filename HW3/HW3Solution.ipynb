{
 "cells": [
  {
   "cell_type": "markdown",
   "metadata": {},
   "source": [
    "# Problem 1. [20 points] Scalar Optimal Control Problem"
   ]
  },
  {
   "cell_type": "markdown",
   "metadata": {},
   "source": [
    "Consider the optimal control problem with fixed terminal time $T$, given by\n",
    "\n",
    "$$\\underset{u(\\cdot)}{\\text{minimize}}\\quad J, \\quad\\text{where}\\quad J:= \\frac{1}{2}\\int_{0}^{T}\\left(x^{2} + u^{2}\\right)\\:{\\rm{d}}t,$$\n",
    "\n",
    "subject to the scalar dynamics $\\dot{x} = u$, and initial condition $x(0)=x_{0}$."
   ]
  },
  {
   "cell_type": "markdown",
   "metadata": {},
   "source": [
    "## (a) [5 points] Two point boundary value problem "
   ]
  },
  {
   "cell_type": "markdown",
   "metadata": {},
   "source": [
    "**Derive** the two point boundary value problem (2PBVP) involving the state $x$ and costate $\\lambda$."
   ]
  },
  {
   "cell_type": "markdown",
   "metadata": {},
   "source": [
    "## Solution for part (a):\n",
    "The Hamiltonian is $H = \\frac{1}{2}\\left(x^{2} + u^{2}\\right) + \\lambda u$, where $\\lambda$ is the costate. Thus, $\\dot{\\lambda} = -\\frac{\\partial H}{\\partial x} = -x$. On the other hand, from PMP, we have $0 = \\frac{\\partial H}{\\partial u} = u + \\lambda$, and hence $u = -\\lambda$. Since final time is fixed, hence from the transversality condition, we have $\\lambda(T)=0$. Therefore, we have the 2PBVP:\n",
    "\n",
    "$$\\begin{pmatrix}\\dot{x}\\\\ \\dot{\\lambda}\\end{pmatrix} = \\begin{pmatrix}0 & -1\\\\\n",
    "-1 & 0\\end{pmatrix} \\begin{pmatrix}x\\\\ \\lambda\\end{pmatrix}, \\quad x(0) = x_{0}, \\quad \\lambda(T) = 0.$$"
   ]
  },
  {
   "cell_type": "markdown",
   "metadata": {},
   "source": [
    "## (b) [3 + 2 = 5 points] Optimal control and optimal state "
   ]
  },
  {
   "cell_type": "markdown",
   "metadata": {},
   "source": [
    "(b.1) To solve the 2PBVP derived in part (a), consider the ansatz: $\\lambda(t) = p(t)x(t)$ for some to-be-determined function $p(t)$. **Derive and solve** an ODE initial value problem for the function $p(t)$.\n",
    "\n",
    "(b.2) Use your solution in part (b.1) to analytically compute the **optimal feedback control** $u^{*}(x,t)$ and the **optimal state trajectory** $x^{*}(t)$."
   ]
  },
  {
   "cell_type": "markdown",
   "metadata": {},
   "source": [
    "## Solution for part (b.1):\n",
    "From $\\lambda(t) = p(t)x(t)$, we have $\\dot{\\lambda} = \\dot{p}x + p\\dot{x} \\;\\Rightarrow\\; -x = \\dot{p}x - p^{2}x \\;\\Rightarrow\\; \\dot{p}x = \\left(p^{2}-1\\right)$, for which to hold for all $x(0)$, and hence for all $x$, we must have $\\dot{p} = p^{2}-1$. This ODE needs to be solved subject to $0 = \\lambda(T) = p(T)x(T)$, which again needs to hold for all $x(0)$, and hence for all $x(T)$, and consequently, $p(T) = 0$.  \n",
    "\n",
    "To solve the ODE initial value problem $\\dot{p} = p^{2}-1$, $p(T)=0$, we notice that\n",
    "\n",
    "$$\\dfrac{{\\rm{d}}p}{\\left(p+1\\right)\\left(p-1\\right)} = {\\rm{d}}t \\;\\Rightarrow\\; \\dfrac{1}{2}\\dfrac{(p+1) - (p-1)}{\\left(p+1\\right)\\left(p-1\\right)}\\:{\\rm{d}}p = {\\rm{d}}t \\;\\Rightarrow\\; \\dfrac{{\\rm{d}}p}{p-1} - \\dfrac{{\\rm{d}}p}{p+1} = 2\\:{\\rm{d}}t \\;\\Rightarrow\\; \\ln\\bigg\\lvert\\dfrac{p-1}{p+1}\\bigg\\rvert = 2t + c,$$\n",
    "\n",
    "where the constant of integration $c = -2T$ (which follows from the intial condition $p(T)=0$). This gives \n",
    "\n",
    "$$\\ln\\bigg\\lvert\\dfrac{p-1}{p+1}\\bigg\\rvert = 2\\left(t-T\\right) \\;\\Rightarrow\\; \\dfrac{p-1}{p+1} = \\exp\\left(2(t-T)\\right),$$\n",
    "\n",
    "where we dropped the absolute value sign since the exponential is nonnegative. Letting $\\tau:=t-T$, we then have\n",
    "\n",
    "$$\\dfrac{p-1+p+1}{p-1-p-1} = \\dfrac{\\exp(2\\tau) + 1}{\\exp(2\\tau) -1} \\;\\Rightarrow\\; -p = \\dfrac{e^{\\tau} + e^{-\\tau}}{e^{\\tau} - e^{-\\tau}} = \\tanh(\\tau) \\;\\Rightarrow\\; p(t) = \\tanh(-\\tau) = \\tanh(T-t).$$\n",
    "\n",
    "## Solution for part (b.2):\n",
    "\n",
    "From part (b.1), $\\lambda = x p = x\\tanh(T-t)$, and consequently, the optimal feedback control is given by $u^{*}(x,t) = -\\lambda = -x\\tanh(T-t)$.\n",
    "\n",
    "The optimal state solves $\\dot{x}^{*} = -x^{*}\\tanh(T-t) \\;\\Rightarrow\\; \\ln(x^{*}) = \\int \\tanh(t-T)\\:{\\rm{d}}t = \\ln\\cosh(t-T) + \\ln k$, where $k$ is the constant of integration. This gives us $x^{*} = k\\cosh(t-T)$, and using the initial condition $x(0)=x_{0}$, we find $k = x_{0}/\\cosh(T)$. Therefore, the optimal state is\n",
    "\n",
    "$$x^{*}(t) = \\dfrac{x_{0}\\cosh(t-T)}{\\cosh(T)}.$$"
   ]
  },
  {
   "cell_type": "markdown",
   "metadata": {},
   "source": [
    "## (c) [4 + 1 = 5 points] Optimal cost"
   ]
  },
  {
   "cell_type": "markdown",
   "metadata": {},
   "source": [
    "Prove that the optimal cost $J^{*}$ satisfies\n",
    "\n",
    "$$J^{*} = \\frac{1}{2}x_{0}^{2}\\:\\tanh(T) = \\frac{1}{2}x_{0}^{2}\\: p(0).$$\n",
    "\n",
    "Interpret the observation that $J^{*}$ depends on $x_{0}$."
   ]
  },
  {
   "cell_type": "markdown",
   "metadata": {},
   "source": [
    "## Solution for part (c):\n",
    "Using the solution of part (b.2) above, and recalling that $\\tau := t-T$, we obtain\n",
    "\n",
    "$$J^{*} = \\frac{1}{2}\\int_{0}^{T}\\left(\\left(x^{*}\\right)^{2} + \\left(u^{*}\\right)^{2}\\right)\\:{\\rm{d}}t = \\frac{1}{2}\\int_{0}^{T} \\left(x^{*}\\right)^{2} \\left(1 + \\tanh^{2}(T-t)\\right)\\:{\\rm{d}}t = \\dfrac{x_{0}^{2}}{2\\cosh^{2}(T)}\\int_{0}^{T}\\cosh\\left(2\\tau\\right)\\:{\\rm{d}}\\tau,$$\n",
    "\n",
    "where we used $\\cosh^{2}\\xi + \\sinh^{2}\\xi = \\cosh2\\xi$. Finally, noting that $\\sinh(2T)=2\\sinh(T)\\cosh(T)$, we get \n",
    "\n",
    "$$J^{*} = \\dfrac{x_{0}^{2}}{2\\cosh^{2}(T)} \\left[\\dfrac{\\sinh(2\\tau)}{2}\\right]_{\\tau=0}^{\\tau=T} = \\dfrac{x_{0}^{2}}{2}\\tanh(T) = \\dfrac{x_{0}^{2}}{2}p(0),$$\n",
    "\n",
    "where the last step, i.e., $\\tanh(T)=p(0)$, follows from part (b.1).\n",
    "\n",
    "It is natural that if the initial condition $x_{0}$ is far away from the origin, then the optimal cost $J^{*}$ is high, i.e., the minimum state+control effort to keep the state near origin increases as the initial condition moves farther from origin. Thus, $J^{*}$ is the \"cost-to-go\" for a given initial condition. "
   ]
  },
  {
   "cell_type": "markdown",
   "metadata": {},
   "source": [
    "## (d) [2 + 3 = 5 points] Hamiltonian"
   ]
  },
  {
   "cell_type": "markdown",
   "metadata": {},
   "source": [
    "(d.1) Without doing any calculation, argue why the Hamiltonian along the optimal trajectory, denoted as $H^{*}$, must be a constant in this problem.\n",
    "\n",
    "(d.2) Determine the value of the constant $H^{*}$ in part (d.1) in terms of $x_{0}, T$."
   ]
  },
  {
   "cell_type": "markdown",
   "metadata": {},
   "source": [
    "## Solution for part (d.1):\n",
    "Since the Hamiltonian derived in part (a) is not an explicit function of time $t$, hence $H^{*}$ must be constant along the optimal trajectory.\n",
    "\n",
    "## Solution for part (d.2):\n",
    "We have \n",
    "\n",
    "$$H^{*} = \\frac{1}{2}\\left(\\left(x^{*}\\right)^{2} + \\left(u^{*}\\right)^{2}\\right) + \\lambda^{*} u^{*} =  \\frac{1}{2}\\left(x^{*}\\right)^{2}\\left[1 + \\tanh^{2}(T-t)\\right] - \\left(x^{*}\\right)^{2}\\tanh(T-t)$$\n",
    "\n",
    "where the last step used $u^{*} = -\\lambda^{*} = -x^{*}\\tanh(T-t)$ from part (b.2). This gives\n",
    "\n",
    "$$H^{*} = \\frac{1}{2}\\dfrac{\\left(x^{*}\\right)^{2}}{\\cosh^{2}(T-t)} = \\dfrac{x_{0}^{2}}{2\\cosh^{2}(T)}.$$"
   ]
  },
  {
   "cell_type": "markdown",
   "metadata": {},
   "source": [
    "# Problem 2. [30 points] How to Sail Fast"
   ]
  },
  {
   "cell_type": "markdown",
   "metadata": {},
   "source": [
    "In a river, a sailor would like to steer a boat through a region of strong currents, from an initial location $(x_{0},y_{0})$ to the final location $(0,0)$. Knowing that a storm is coming, the sailor would like to reach $(0,0)$ as fast as possible, i.e., in minimum time. The boat moves with constant speed $V$ but its heading $\\theta(t)$ can be adjusted, i.e., $\\theta(t)$ is a control variable. The current $c$ in the river varies as\n",
    "\n",
    "$$c(y) := \\frac{Vy}{h}, \\quad\\text{for some fixed}\\;h.$$\n",
    "\n",
    "Letting $(x,y)$ to be the position coordinate of the boat, its dynamics is given by\n",
    "\n",
    "$$\\dot{x} = V\\cos\\theta + c(y), \\qquad \\dot{y} = V\\sin\\theta.$$"
   ]
  },
  {
   "cell_type": "markdown",
   "metadata": {},
   "source": [
    "## (a) [5 points] Linear tangent law"
   ]
  },
  {
   "cell_type": "markdown",
   "metadata": {
    "collapsed": true
   },
   "source": [
    "Prove that the tangent of the optimal heading at time $t$, must be a linear function of $t$."
   ]
  },
  {
   "cell_type": "markdown",
   "metadata": {},
   "source": [
    "## Solution for part (a):\n",
    "The Hamiltonian $H = 1 + \\lambda_{1}\\left(V\\cos\\theta + Vy/h\\right) + \\lambda_{2}V\\sin\\theta$ gives the costate equations:\n",
    "\n",
    "$$\\dot{\\lambda_{1}} = -\\dfrac{\\partial H}{\\partial x} = 0, \\quad \\dot{\\lambda_{2}} = -\\dfrac{\\partial H}{\\partial y} = -\\dfrac{\\lambda_{1}V}{h},$$\n",
    "\n",
    "which implies $\\lambda_{1} =$ constant, and $\\lambda_{2}(t) = \\lambda_{2}(T) + \\lambda_{1}V(T-t)/h$.\n",
    "\n",
    "From PMP, we have $0 = \\dfrac{\\partial H}{\\partial\\theta} = -\\lambda_{1}V\\sin\\theta + \\lambda_{2}V\\cos\\theta$, or equivalently, $\\tan\\theta(t) = \\lambda_{2}(t)/\\lambda_{1}$, wherein substituting $\\lambda_{2}(t)$ results in\n",
    "\n",
    "$$\\tan\\theta(t) = \\dfrac{\\lambda_{2}(T)}{\\lambda_{1}} + \\dfrac{V(T-t)}{h},$$\n",
    "\n",
    "which is the desired result."
   ]
  },
  {
   "cell_type": "markdown",
   "metadata": {},
   "source": [
    "## (b) [5 points] Heading dynamics"
   ]
  },
  {
   "cell_type": "markdown",
   "metadata": {},
   "source": [
    "Show that the optimal heading angle $\\theta$ has dynamics: $\\dot{\\theta} = -\\frac{V}{h}\\cos^{2}\\theta$."
   ]
  },
  {
   "cell_type": "markdown",
   "metadata": {},
   "source": [
    "## Solution for part (b):\n",
    "The final state being fixed at $(0,0)$, makes terminal constraint as $\\psi(T) = \\begin{pmatrix}x(T)\\\\ y(T)\\end{pmatrix} = \\begin{pmatrix}0\\\\ 0\\end{pmatrix}$. Therefore, the transversality condition gives $H(T)=0$. \n",
    "\n",
    "Since the Hamiltonian is not an explicit function of $t$, this implies $H(t)= 1 + \\lambda_{1}\\left(V\\cos\\theta + Vy/h\\right) + \\lambda_{2}V\\sin\\theta = 0$ for all $0\\leq t \\leq T$. Combining this together with the PMP, gives us two equations in two unknowns $\\lambda_{1},\\lambda_{2}$ as\n",
    "\n",
    "$$\\begin{pmatrix} V\\cos\\theta + \\frac{Vy}{h} & V\\sin\\theta\\\\\n",
    "-V\\sin\\theta & V\\cos\\theta\\end{pmatrix}\\begin{pmatrix}\\lambda_{1}\\\\ \\lambda_{2}\\end{pmatrix} = \\begin{pmatrix}-1\\\\ 0\\end{pmatrix},$$\n",
    "\n",
    "which yields\n",
    "\\begin{align}\n",
    "\\lambda_{1} = \\dfrac{-\\cos\\theta}{V + V(y/h)\\cos\\theta}, \\\\\n",
    "\\lambda_{2} = \\dfrac{-\\sin\\theta}{V + V(y/h)\\cos\\theta}.\n",
    "\\end{align}\n",
    "\n",
    "Using constancy of $\\lambda_{1}$, the above expression for $\\lambda_{1}$, and the state equation for $\\dot{y}$, we get\n",
    "\n",
    "$$0 = \\dot{\\lambda_{1}} = \\dfrac{\\partial\\lambda_{1}}{\\partial\\theta}\\dot{\\theta} + \\dfrac{\\partial\\lambda_{1}}{\\partial y}\\dot{y} = \\dfrac{V\\sin\\theta}{\\left(V + V(y/h)\\cos\\theta\\right)^{2}}\\dot{\\theta} + \\dfrac{(V/h)\\cos^{2}\\theta}{\\left(V + V(y/h)\\cos\\theta\\right)^{2}} V\\sin\\theta \\;\\Rightarrow\\; \\dot{\\theta} = -\\dfrac{V}{h}\\cos^{2}\\theta,$$\n",
    "\n",
    "as desired."
   ]
  },
  {
   "cell_type": "markdown",
   "metadata": {},
   "source": [
    "## (c) [10 points] Optimal state feedback"
   ]
  },
  {
   "cell_type": "markdown",
   "metadata": {},
   "source": [
    "Let $T$ be the (free) final time. Prove that the optimal state feedback $\\theta$ as function of $(x,y)$ (available from real-time GPS measurement, for example), is given **implicitly** by the following two coupled nonlinear equations, to be solved for $(\\theta(t),\\theta(T))$ as function of $(x(t),y(t))$:\n",
    "\n",
    "$$\\frac{x(t)}{h} = \\frac{1}{2}\\left[\\sec\\theta(T)\\left(\\tan\\theta(T) - \\tan\\theta(t)\\right) - \\tan\\theta(t)\\left(\\sec\\theta(T) - \\sec\\theta(t)\\right) + \\ln\\frac{\\sec\\theta(T) + \\tan\\theta(T)}{\\sec\\theta(t) + \\tan\\theta(t)}\\right],$$\n",
    "\n",
    "$$\\frac{y(t)}{h} = \\sec\\theta(T) - \\sec\\theta(t).$$"
   ]
  },
  {
   "cell_type": "markdown",
   "metadata": {},
   "source": [
    "## Solution of part (c):\n",
    "Since $\\lambda_{1}$ is a constant, from (1) we have $\\lambda_{1}(t)=\\lambda_{1}(T)$, which together with $y(T)=0$ gives\n",
    "\n",
    "\\begin{align}\n",
    "\\frac{y(t)}{h} = \\sec\\theta(T) - \\sec\\theta(t).\n",
    "\\end{align}\n",
    "\n",
    "Next, we use chain rule in the state equation for $\\dot{x}$, to obtain\n",
    "\n",
    "\\begin{align}\n",
    "\\dfrac{{\\rm{d}}x}{{\\rm{d}}\\theta}\\dot{\\theta} = V\\cos\\theta + \\dfrac{Vy}{h}.\n",
    "\\end{align}\n",
    "\n",
    "In (4), we substitute for $\\dot{\\theta}$ from part (b), and for $y(t)/h$ from (3), to get\n",
    "\n",
    "\\begin{align}\n",
    "\\dfrac{{\\rm{d}}x}{{\\rm{d}}\\theta} = \\dfrac{V\\cos\\theta + V\\sec\\theta(T) -V\\sec\\theta}{-(V/h)\\cos^{2}\\theta} = -h\\left(\\sec\\theta + \\sec\\theta(T)\\sec^{2}\\theta - \\sec^{3}\\theta\\right).\n",
    "\\end{align}\n",
    "\n",
    "We integrate (5) as the independent variable goes from $\\theta=\\theta(t)$ to $\\theta = \\theta(T)$, and the dependent variable goes from $x=x(t)$ to $x=x(T)=0$, to arrive at\n",
    "\n",
    "$$\\frac{x(t)}{h} = \\frac{1}{2}\\left[\\sec\\theta(T)\\left(\\tan\\theta(T) - \\tan\\theta(t)\\right) - \\tan\\theta(t)\\left(\\sec\\theta(T) - \\sec\\theta(t)\\right) + \\ln\\frac{\\sec\\theta(T) + \\tan\\theta(T)}{\\sec\\theta(t) + \\tan\\theta(t)}\\right].$$\n",
    "\n",
    "In performing the above integration, we only needed the following three integrals:\n",
    "\n",
    "\\begin{align}\n",
    "&\\int\\sec\\theta\\:{{\\rm{d}}\\theta} = \\int\\sec\\theta\\:\\dfrac{\\sec\\theta + \\tan\\theta}{\\sec\\theta + \\tan\\theta}\\:{{\\rm{d}}\\theta} = \\int\\dfrac{\\sec^{2}\\theta + \\sec\\theta\\tan\\theta}{\\sec\\theta + \\tan\\theta}\\:{{\\rm{d}}\\theta} = \\int \\dfrac{{{\\rm{d}}\\eta}}{\\eta} = \\ln\\left(\\sec\\theta+\\tan\\theta\\right),\\\\\n",
    "&\\int\\sec^{2}\\theta\\:{{\\rm{d}}\\theta} = \\int\\:{{\\rm{d}}\\left(\\tan\\theta\\right)} = \\tan\\theta,\\\\\n",
    "&\\int\\sec^{3}\\theta\\:{{\\rm{d}}\\theta} = \\int\\underbrace{\\sec\\theta}_{\\text{1st function}}\\:\\underbrace{\\sec^{2}\\theta}_{\\text{2nd function}}\\:{{\\rm{d}}\\theta} = \\sec\\theta\\tan\\theta - \\int \\left(\\sec\\theta\\tan\\theta\\right)\\tan\\theta\\:{{\\rm{d}}\\theta}\\nonumber\\\\\n",
    "&\\qquad\\qquad\\qquad\\qquad\\qquad\\qquad\\qquad = \\sec\\theta\\tan\\theta - \\int \\sec\\theta\\left(\\sec^{2}\\theta-1\\right){{\\rm{d}}\\theta}\\nonumber\\\\\n",
    "\\Rightarrow&\\int\\sec^{3}\\theta\\:{{\\rm{d}}\\theta} = \\frac{1}{2}\\sec\\theta\\tan\\theta + \\frac{1}{2}\\ln\\left(\\sec\\theta+\\tan\\theta\\right).\n",
    "\\end{align}"
   ]
  },
  {
   "cell_type": "markdown",
   "metadata": {},
   "source": [
    "## (d) [10 points] Plot optimal state and optimal control trajectories"
   ]
  },
  {
   "cell_type": "markdown",
   "metadata": {},
   "source": [
    "Let $V=1$, $h=1$, $(x_{0},y_{0}) = (4.9, 1.66)$. Use parts (b) and (c) above to numerically compute and then plot the optimal state trajectory in the $xy$ plane. In the same figure, plot arrows to show how the optimal heading varies along that optimal state trajectory."
   ]
  },
  {
   "cell_type": "markdown",
   "metadata": {
    "collapsed": true
   },
   "source": [
    "## Solution for part (d): \n",
    "The following figure shows the optimal state (black) and control (blue) trajectories in the $xy$ plane.\n",
    "\n",
    "<img src=\"SailFast.png\" alt=\"Optimal solution trajecotry\" width=\"600\" height=\"600\">\n",
    "\n",
    "The MATLAB implementation that generates the above figure are available in the HW3 repo in GitHub. The executable is runZermelo.m."
   ]
  },
  {
   "cell_type": "code",
   "execution_count": null,
   "metadata": {
    "collapsed": true
   },
   "outputs": [],
   "source": [
    "    "
   ]
  }
 ],
 "metadata": {
  "kernelspec": {
   "display_name": "Python 2",
   "language": "python",
   "name": "python2"
  },
  "language_info": {
   "codemirror_mode": {
    "name": "ipython",
    "version": 2
   },
   "file_extension": ".py",
   "mimetype": "text/x-python",
   "name": "python",
   "nbconvert_exporter": "python",
   "pygments_lexer": "ipython2",
   "version": "2.7.14"
  }
 },
 "nbformat": 4,
 "nbformat_minor": 2
}
