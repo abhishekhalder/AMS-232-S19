{
 "cells": [
  {
   "cell_type": "markdown",
   "metadata": {},
   "source": [
    "# Problem 1. [70 points] Finite Horizon OCP in Continuous Time  "
   ]
  },
  {
   "cell_type": "markdown",
   "metadata": {},
   "source": [
    "Consider the finite horizon (fixed terminal time $T$) **deterministic OCP** in continuous time, given by\n",
    "\n",
    "$$\\begin{align*}\n",
    "&\\underset{\\gamma\\in\\Gamma}{\\text{min}}\\quad e^{-\\beta T}q x(T) \\:+\\: \\displaystyle\\int_{0}^{T}e^{-\\beta t}\\left(x + cu^{2}\\right)\\:{\\mathrm{d}}t\\\\\n",
    "& \\dot{x} = a - u\\:\\sqrt{x}, \\quad x(0)=x_{0}\\in\\mathbb{R}_{>0}, \\quad x\\in\\mathcal{X}\\equiv\\mathbb{R}_{>0}, \\quad u\\in\\mathcal{U}\\equiv\\mathbb{R}_{>0}.\n",
    "\\end{align*}$$\n",
    "\n",
    "Here, the parameters $a,\\beta,c,q>0$. Our objective is to compute the optimal state feedback control $u_{\\rm{opt}}=\\gamma_{\\rm{opt}}(t,x)$. "
   ]
  },
  {
   "cell_type": "markdown",
   "metadata": {},
   "source": [
    "## (a) [45 points] Dynamic Programming"
   ]
  },
  {
   "cell_type": "markdown",
   "metadata": {},
   "source": [
    "(a.1) [10 points] **Derive the Dynamic Programming (DP) equation** (i.e., the HJB PDE) for the value function $V(t,x)$ associated with the above OCP. Your final answer should not have any minimization operator."
   ]
  },
  {
   "cell_type": "markdown",
   "metadata": {},
   "source": [
    "## Solution for (a.1):\n",
    "Here, the Lagrangian $L(t,x,u) = e^{-\\beta t}\\left(x + cu^{2}\\right)$, and the controlled vector field $f(t,x,u) = a - u\\:\\sqrt{x}$, which result in the HJB PDE\n",
    "\n",
    "$$\\begin{align*}\n",
    "&\\dfrac{\\partial V}{\\partial t} + \\underset{u\\in\\mathcal{U}}{\\min}\\bigg\\{L(t,x,u) + \\bigg\\langle \\dfrac{\\partial V}{\\partial x}, f(t,x,u)\\bigg\\rangle\\bigg\\} = 0,\\\\\n",
    "\\Rightarrow& \\dfrac{\\partial V}{\\partial t} + \\underset{u\\in\\mathcal{U}}{\\min}\\bigg\\{e^{-\\beta t}\\left(x + cu^{2}\\right) + \\dfrac{\\partial V}{\\partial x}\\left(a - u\\:\\sqrt{x}\\right)\\bigg\\} = 0.\n",
    "\\end{align*}\n",
    "$$\n",
    "\n",
    "Performing the above minimization, we get $u_{\\rm{opt}} = \\dfrac{e^{\\beta t}}{2c}\\dfrac{\\partial V}{\\partial x}\\sqrt{x}$, which upon substituting back in the DP equation, results in the 1st order nonlinear PDE:\n",
    "\n",
    "$$\\dfrac{\\partial V}{\\partial t} + e^{-\\beta t}x + a \\dfrac{\\partial V}{\\partial x} - \\dfrac{e^{\\beta t}}{4c}\\left(\\dfrac{\\partial V}{\\partial x}\\right)^{2} x = 0.$$"
   ]
  },
  {
   "cell_type": "markdown",
   "metadata": {},
   "source": [
    "(a.2) [5 points] Clearly write down the **terminal condition** for the PDE derived in part (a.1)."
   ]
  },
  {
   "cell_type": "markdown",
   "metadata": {},
   "source": [
    "## Solution for (a.2):\n",
    "The terminal condition for the value function is the terminal cost, i.e., $V(T,x(T)) = e^{-\\beta T}q x(T)$."
   ]
  },
  {
   "cell_type": "markdown",
   "metadata": {},
   "source": [
    "(a.3) [15 points] To solve the HJB PDE terminal value problem in (a.1)-(a.2), we stare at the PDE for a while (!!!), and make the structural guess\n",
    "\n",
    "$$V(t,x) = e^{-\\beta t}\\left(A(t)x + B(t)\\right),$$\n",
    "\n",
    "where $A(t),B(t)$ are some to-be-determined functions of time $t$. **Derive the optimal state-feedback controller** $u_{\\rm{opt}}=\\gamma_{\\rm{opt}}(t,x)$."
   ]
  },
  {
   "cell_type": "markdown",
   "metadata": {},
   "source": [
    "## Solution for (a.3):\n",
    "Substituting the supplied anstaz for the value function $V(t,x)$ in the HJB PDE terminal value problem derived in (a.1)-(a.2), we get\n",
    "\n",
    "$$\\left(\\dot{A} - \\beta A + 1 - \\dfrac{A^{2}}{4c}\\right)x \\: + \\: \\left(\\dot{B} - \\beta B + a A\\right) \\:=\\: 0, \\quad e^{-\\beta T}\\left(A(T)x + B(T)\\right) = qxe^{-\\beta T}.$$\n",
    "\n",
    "For the above to hold for all $t,x$, we must have\n",
    "\n",
    "$$\n",
    "\\begin{align*}\n",
    "&\\dot{A} - \\beta A + 1 - \\dfrac{A^{2}}{4c} = 0, \\quad &A(T) = q,\\\\\n",
    "&\\dot{B} - \\beta B + a A = 0, \\quad &B(T) = 0.\n",
    "\\end{align*}\n",
    "$$\n",
    "\n",
    "In principle, one can integrate the (de-coupled) ODE terminal value problem involving $\\dot{A}$ to compute $A(t)$, and then substitute the resulting $A(t)$ in the $\\dot{B}$ ODE terminal value problem, to solve the latter non-homogeneous linear ODE. Then the optimal feedback control and the value function, are obtained by substituting the solved $A(t),B(t)$ in the expressions:\n",
    "\n",
    "$$u_{\\rm{opt}}=\\gamma_{\\rm{opt}}(t,x) = \\dfrac{e^{\\beta t}}{2c}\\dfrac{\\partial V}{\\partial x}\\sqrt{x} = \\dfrac{\\sqrt{x}}{2c}A(t), \\qquad V(t,x) = e^{-\\beta t}\\left(A(t)x + B(t)\\right).$$\n",
    "\n",
    "It is possible to solve the $\\dot{A},\\dot{B}$ ODEs analytically. We will instead solve them numerically next."
   ]
  },
  {
   "cell_type": "markdown",
   "metadata": {},
   "source": [
    "(a.4) [15 points] Use your solution in (a.3) to **write a code generating the following 3 figures**: (i) trajectory plots: $A,B$ as functions of $t$, (ii) surface plot: $u_{\\rm{opt}}$ as function of $t, x$, (iii) surface plot: $V$ as function of $t, x$. Use the following data for this purpose: $a=1, \\beta = 2, c=3, q = 5, T = 2, x=0.1:0.1:10$. For surface plots, you can use MATLAB surfc or its equivalent.  "
   ]
  },
  {
   "cell_type": "markdown",
   "metadata": {},
   "source": [
    "## Solution for (a.4):\n",
    "The MATLAB codes SolveDiscountedHJB.m (the executable) and ABdynamics.m are in the git repo. They generate the following plots:\n",
    "\n",
    "<img src=\"AB.png\" height=\"500\" width=\"500\">\n",
    "\n",
    "<img src=\"uopt.png\" height=\"550\" width=\"550\">\n",
    "\n",
    "<img src=\"V.png\" height=\"550\" width=\"550\">"
   ]
  },
  {
   "cell_type": "markdown",
   "metadata": {},
   "source": [
    "## (b) [25 points] PMP "
   ]
  },
  {
   "cell_type": "markdown",
   "metadata": {},
   "source": [
    "(b.1) [10 points] Instead of using DP as in part (a), **use PMP to derive the state-costate ODE 2PBVP**. "
   ]
  },
  {
   "cell_type": "markdown",
   "metadata": {},
   "source": [
    "## Solution for (b.1):\n",
    "The Hamiltonian $H(t,x,u) = L(t,x,u) + \\lambda(t) f(t,x,u) = e^{-\\beta t}\\left(x + cu^{2}\\right) + \\lambda(t)\\left(a - u\\:\\sqrt{x}\\right)$ gives the costate ODE:\n",
    "\n",
    "$$\\dot{\\lambda} = -\\dfrac{\\partial H}{\\partial x} = -e^{-\\beta t} + \\dfrac{\\lambda u}{2\\sqrt{x}}.$$\n",
    "\n",
    "Since ${\\mathrm{d}}T = 0$ but ${\\mathrm{d}}x(T)\\neq 0$, hence the transversality condition gives $\\lambda(T) = \\dfrac{\\partial\\phi}{\\partial x(T)}$, where the terminal cost $\\phi(x(T),T) = qx(T)e^{-\\beta T}$. This results in the 2PBVP in state-costate pair $(x(t),\\lambda(t))$ given by\n",
    "\n",
    "$$\\dot{x} = a - u\\:\\sqrt{x}, \\quad x(0)=x_{0}; \\quad \\dot{\\lambda} = -\\dfrac{\\partial H}{\\partial x} = -e^{-\\beta t} + \\dfrac{\\lambda u}{2\\sqrt{x}}, \\quad \\lambda(T) = qe^{-\\beta T}.$$"
   ]
  },
  {
   "cell_type": "markdown",
   "metadata": {},
   "source": [
    "(b.2) [5 + 5 = 10 points] **Derive the structural form of optimal control** using PMP. **Compare and comment on the same with that obtained from DP**."
   ]
  },
  {
   "cell_type": "markdown",
   "metadata": {},
   "source": [
    "## Solution for (b.2):\n",
    "\n",
    "Applying the PMP $0 = \\dfrac{\\partial H}{\\partial u}$, we obtian the optimal control\n",
    "\n",
    "$$u_{\\rm{opt}} = \\dfrac{e^{\\beta t}}{2c}\\lambda \\sqrt{x}.$$\n",
    "\n",
    "The above structural form is same as the optimal control derived in (a.3) since $\\lambda\\equiv \\dfrac{\\partial V}{\\partial x}$ for all $t$."
   ]
  },
  {
   "cell_type": "markdown",
   "metadata": {},
   "source": [
    "(b.3) [5 points] **Briefly explain** why solving via DP approach in part (a) may be preferred for our OCP compared to solving the equations derived in (b.1)-(b.2)."
   ]
  },
  {
   "cell_type": "markdown",
   "metadata": {},
   "source": [
    "## Solution for (b.3):\n",
    "To compute the optimal control via PMP, (b.2) tells us that we need to solve for the costate $\\lambda(t)$, which in turn requires solving the **nonlinear 2PBVP** in $(x,\\lambda)$ derived in (b.1). Compared to this, solving the PDE terminal value problem resulting from DP in part (a) turns out to be much simpler. Therefore the DP approach is preferred over the PMP. Other than the ease of solution, the DP also gives the feedback control, whereas finding the feedback via PMP requires afterthought."
   ]
  },
  {
   "cell_type": "markdown",
   "metadata": {
    "collapsed": true
   },
   "source": [
    "# Problem 2. [30 points] Infinite Horizon OCP in Discrete Time"
   ]
  },
  {
   "cell_type": "markdown",
   "metadata": {},
   "source": [
    "Consider the **infinite horizon LQR in discrete time**:\n",
    "\n",
    "$$\\begin{align*} \n",
    "&\\underset{\\{\\gamma_{t}\\}_{t=0}^{\\infty}\\in\\Gamma}{\\inf}\\:\\sum_{t=0}^{\\infty}\\left(x_{t}^{\\top}Qx_{t} + u_{t}^{\\top}Ru_{t}\\right)\\\\\n",
    "& x_{t+1} = A_{t}x_{t} + B_{t}u_{t}, \\quad x_{0}\\;\\text{given}, \\quad x\\in\\mathbb{R}^{n}, \\quad u\\in\\mathbb{R}^{m},\n",
    "\\end{align*}$$\n",
    "\n",
    "wherein as usual $Q \\succeq 0$, $R \\succ 0$, and $\\Gamma$ is the set of all (time-varying) history-dependent randomized policies. The dynamics is a linear time-varying (LTV) system with\n",
    "\n",
    "$$A_{t} = \\begin{cases}\n",
    "A_{\\rm{e}} & \\text{if}\\quad t\\quad\\text{is even},\\\\\n",
    "A_{\\rm{o}} & \\text{if}\\quad t\\quad\\text{is odd},\n",
    "\\end{cases} \\qquad B_{t} = \\begin{cases}\n",
    "B_{\\rm{e}} & \\text{if}\\quad t\\quad\\text{is even},\\\\\n",
    "B_{\\rm{o}} & \\text{if}\\quad t\\quad\\text{is odd},\n",
    "\\end{cases}$$\n",
    "\n",
    "where $(A_{\\rm{e}},A_{\\rm{o}})$ and $(B_{\\rm{e}},B_{\\rm{o}})$ are two fixed pair of matrices of approprate dimension. In other words, this is a periodic LTV system with period 2."
   ]
  },
  {
   "cell_type": "markdown",
   "metadata": {},
   "source": [
    "## (a) [10 + 10 = 20 points] Dynamic Programming Equation"
   ]
  },
  {
   "cell_type": "markdown",
   "metadata": {},
   "source": [
    "(a.1) From our knowledge of DP, the infinite horizon value function should not explicitly depend on time $t$. On the other hand, from our knowledge of LQR, it is reasonable to conjecture that the value function be quadratic, i.e., \n",
    "\n",
    "$$V_{t}(x) = \\begin{cases}\n",
    "V_{\\rm{e}}(x) = x^{\\top}P_{\\rm{e}}x & \\text{if}\\quad t\\quad\\text{is even},\\\\\n",
    "V_{\\rm{o}}(x) = x^{\\top}P_{\\rm{o}}x & \\text{if}\\quad t\\quad\\text{is odd},\n",
    "\\end{cases}$$\n",
    "\n",
    "for some to-be-determined matrices $P_{\\rm{e}},P_{\\rm{o}} \\succeq 0$. You DO NOT need to verify this conjecture. Instead, use this guess together with the DP equation, to derive **two coupled matrix algebraic equations** for $P_{\\rm{e}}$ and $P_{\\rm{o}}$. \n",
    "\n",
    "(a.2) **Rewrite** the two coupled matrix equations in part (a.1) as a single discrete-time algebraic Riccati equation (DARE), of the familiar form:\n",
    "\n",
    "$$P_{\\infty} = \\widehat{Q} + A^{\\top}P_{\\infty}A - A^{\\top}P_{\\infty}B\\left(\\widehat{R} + B^{\\top}P_{\\infty}B\\right)^{-1}B^{\\top}P_{\\infty}A,$$\n",
    "    \n",
    "for some appropriately defined matrices $A,B,\\widehat{Q},\\widehat{R},P_{\\infty}$. In other words, write $A,B,\\widehat{Q},\\widehat{R},P_{\\infty}$ in terms of the data of the original problem: $A_{\\rm{e}}, A_{\\rm{o}}, B_{\\rm{e}}, B_{\\rm{o}}, Q, R, P_{\\rm{e}},P_{\\rm{o}}$.   "
   ]
  },
  {
   "cell_type": "markdown",
   "metadata": {},
   "source": [
    "## Solution for part (a):\n",
    "\n",
    "(a.1) Using the quadratic form the value function given, the DP equation, for $t$ even, becomes\n",
    "\n",
    "$$\\begin{align*}\n",
    "V_{\\rm{e}}(x) &= x^{\\top}Qx + \\underset{u\\in\\mathbb{R}^{m}}{\\min}\\bigg\\{u^{\\top}Ru \\: + \\: V_{\\rm{o}}\\left(A_{\\rm{e}}x + B_{\\rm{e}}u\\right)\\bigg\\}\\\\\n",
    "&= x^{\\top}Qx + \\underset{u\\in\\mathbb{R}^{m}}{\\min}\\bigg\\{u^{\\top}Ru \\: + \\: \\left(A_{\\rm{e}}x + B_{\\rm{e}}u\\right)^{\\top}P_{\\rm{o}}\\left(A_{\\rm{e}}x + B_{\\rm{e}}u\\right)\\bigg\\}\\\\\n",
    "&= x^{\\top}\\bigg\\{Q + A_{\\rm{e}}^{\\top}P_{\\rm{o}}A_{\\rm{e}} - A_{\\rm{e}}^{\\top}P_{\\rm{o}}B_{\\rm{e}}\\left(R + B_{\\rm{e}}^{\\top}P_{\\rm{o}}B_{\\rm{e}}\\right)^{-1}B_{\\rm{e}}^{\\top}P_{\\rm{o}}A_{\\rm{e}}\\bigg\\}x\\\\\n",
    "&= x^{\\top}P_{\\rm{e}}x,\n",
    "\\end{align*}\n",
    "$$\n",
    "\n",
    "for which to hold for all $x$, we need\n",
    "\n",
    "$$P_{\\rm{e}} = Q + A_{\\rm{e}}^{\\top}P_{\\rm{o}}A_{\\rm{e}} - A_{\\rm{e}}^{\\top}P_{\\rm{o}}B_{\\rm{e}}\\left(R + B_{\\rm{e}}^{\\top}P_{\\rm{o}}B_{\\rm{e}}\\right)^{-1}B_{\\rm{e}}^{\\top}P_{\\rm{o}}A_{\\rm{e}}.$$\n",
    "\n",
    "Likewise, for $t$ odd, the DP equation yields\n",
    "\n",
    "$$P_{\\rm{o}} = Q + A_{\\rm{o}}^{\\top}P_{\\rm{e}}A_{\\rm{o}} - A_{\\rm{o}}^{\\top}P_{\\rm{e}}B_{\\rm{o}}\\left(R + B_{\\rm{o}}^{\\top}P_{\\rm{e}}B_{\\rm{o}}\\right)^{-1}B_{\\rm{o}}^{\\top}P_{\\rm{e}}A_{\\rm{o}}.$$\n",
    "\n",
    "(a.2) The two coupled matrix algebraic equations from (a.1) can be put in the $2n\\times 2n$ DARE form given with\n",
    "\n",
    "$$A = \\begin{pmatrix}\\mathbf{0} & A_{\\rm{e}}\\\\\n",
    "A_{\\rm{o}} & \\mathbf{0}\n",
    "\\end{pmatrix}, \\quad B = \\begin{pmatrix}B_{\\rm{e}} & \\mathbf{0}\\\\\n",
    "\\mathbf{0} & B_{\\rm{o}}\n",
    "\\end{pmatrix}, \\quad \\widehat{Q} = \\begin{pmatrix}Q & \\mathbf{0}\\\\\n",
    "\\mathbf{0} & Q\n",
    "\\end{pmatrix}, \\quad \\widehat{R} = \\begin{pmatrix}R & \\mathbf{0}\\\\\n",
    "\\mathbf{0} & R\n",
    "\\end{pmatrix}, \\quad P_{\\infty} = \\begin{pmatrix}P_{\\rm{o}} & \\mathbf{0}\\\\\n",
    "\\mathbf{0} & P_{\\rm{e}}\n",
    "\\end{pmatrix}.\n",
    "$$\n"
   ]
  },
  {
   "cell_type": "markdown",
   "metadata": {},
   "source": [
    "## (b) [5 + 5 = 10 points] Optimal Control "
   ]
  },
  {
   "cell_type": "markdown",
   "metadata": {},
   "source": [
    "(b.1) Use the conclusion of (a.2) to **argue that** the infinite horizon optimal controller for our period 2 LTV system must be of the form:\n",
    "\n",
    "$$u(t,x) = \\begin{cases}\n",
    "K_{\\rm{e}}x & \\text{if}\\quad t\\quad\\text{is even},\\\\\n",
    "K_{\\rm{o}}x & \\text{if}\\quad t\\quad\\text{is odd},\n",
    "\\end{cases}$$\n",
    "\n",
    "for a pair of constant matrices $K_{\\rm{e}}, K_{\\rm{o}}$ of appropriate dimension. (You can assume that the DARE in (a.2) has unique positive semi-definite solution.)\n",
    "\n",
    "(b.2) **Determine** the feedback gain matrices $K_{\\rm{e}}, K_{\\rm{o}}$ in part (b.1) as explicit functions of the data of the original problem. "
   ]
  },
  {
   "cell_type": "markdown",
   "metadata": {
    "collapsed": true
   },
   "source": [
    "## Solution for part (b):\n",
    "(b.1) Let $(P_{\\rm{e}},P_{\\rm{o}})$ be the solution of the two coupled matrix equations derived in (a.1), recovered from the DARE in (a.2), assuming the DARE in (a.2) has unique positive semi-definite solution. From the DP equation in (a.1), $u_{t} = -\\left(R + B_{t}^{\\top}P_{t+1}B_{t}\\right)^{-1}B_{t}^{\\top}P_{t+1}A_{t}x_{t}$. Therefore,\n",
    "\n",
    "$$u_{t} = \\begin{cases}\n",
    "-\\left(R + B_{\\rm{e}}^{\\top}P_{\\rm{o}}B_{\\rm{e}}\\right)^{-1}B_{\\rm{e}}^{\\top}P_{\\rm{o}}A_{\\rm{e}}x_{t} = K_{\\rm{e}}x_{t}, \\quad t\\quad\\text{even},\\\\\n",
    "-\\left(R + B_{\\rm{o}}^{\\top}P_{\\rm{e}}B_{\\rm{o}}\\right)^{-1}B_{\\rm{o}}^{\\top}P_{\\rm{e}}A_{\\rm{o}}x_{t} = K_{\\rm{o}}x_{t}, \\quad t\\quad\\text{odd}.\n",
    "\\end{cases}\n",
    "$$\n",
    "\n",
    "(b.2) From (b.1), we have\n",
    "\n",
    "$$K_{\\rm{e}}:= -\\left(R + B_{\\rm{e}}^{\\top}P_{\\rm{o}}B_{\\rm{e}}\\right)^{-1}B_{\\rm{e}}^{\\top}P_{\\rm{o}}A_{\\rm{e}}, \\quad K_{\\rm{o}}:= -\\left(R + B_{\\rm{o}}^{\\top}P_{\\rm{e}}B_{\\rm{o}}\\right)^{-1}B_{\\rm{o}}^{\\top}P_{\\rm{e}}A_{\\rm{o}}.$$"
   ]
  },
  {
   "cell_type": "code",
   "execution_count": null,
   "metadata": {
    "collapsed": true
   },
   "outputs": [],
   "source": []
  }
 ],
 "metadata": {
  "kernelspec": {
   "display_name": "Python 2",
   "language": "python",
   "name": "python2"
  },
  "language_info": {
   "codemirror_mode": {
    "name": "ipython",
    "version": 2
   },
   "file_extension": ".py",
   "mimetype": "text/x-python",
   "name": "python",
   "nbconvert_exporter": "python",
   "pygments_lexer": "ipython2",
   "version": "2.7.14"
  }
 },
 "nbformat": 4,
 "nbformat_minor": 2
}
